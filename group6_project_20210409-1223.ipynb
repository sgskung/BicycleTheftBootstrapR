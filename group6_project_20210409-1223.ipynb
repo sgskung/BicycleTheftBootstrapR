{
 "cells": [
  {
   "cell_type": "code",
   "execution_count": 1,
   "metadata": {},
   "outputs": [
    {
     "name": "stderr",
     "output_type": "stream",
     "text": [
      "-- \u001b[1mAttaching packages\u001b[22m ------------------------------------------------------------------------------- tidyverse 1.3.0 --\n",
      "\n",
      "\u001b[32mv\u001b[39m \u001b[34mggplot2\u001b[39m 3.3.2     \u001b[32mv\u001b[39m \u001b[34mpurrr  \u001b[39m 0.3.4\n",
      "\u001b[32mv\u001b[39m \u001b[34mtibble \u001b[39m 3.0.4     \u001b[32mv\u001b[39m \u001b[34mdplyr  \u001b[39m 1.0.2\n",
      "\u001b[32mv\u001b[39m \u001b[34mtidyr  \u001b[39m 1.1.2     \u001b[32mv\u001b[39m \u001b[34mstringr\u001b[39m 1.4.0\n",
      "\u001b[32mv\u001b[39m \u001b[34mreadr  \u001b[39m 1.4.0     \u001b[32mv\u001b[39m \u001b[34mforcats\u001b[39m 0.5.0\n",
      "\n",
      "-- \u001b[1mConflicts\u001b[22m ---------------------------------------------------------------------------------- tidyverse_conflicts() --\n",
      "\u001b[31mx\u001b[39m \u001b[34mdplyr\u001b[39m::\u001b[32mfilter()\u001b[39m masks \u001b[34mstats\u001b[39m::filter()\n",
      "\u001b[31mx\u001b[39m \u001b[34mdplyr\u001b[39m::\u001b[32mlag()\u001b[39m    masks \u001b[34mstats\u001b[39m::lag()\n",
      "\n",
      "\n",
      "Attaching package: 'gridExtra'\n",
      "\n",
      "\n",
      "The following object is masked from 'package:dplyr':\n",
      "\n",
      "    combine\n",
      "\n",
      "\n"
     ]
    }
   ],
   "source": [
    "suppressWarnings(library(tidyverse, warn.conflicts = FALSE))\n",
    "suppressWarnings(library(lubridate, warn.conflicts = FALSE))\n",
    "suppressWarnings(library(infer))\n",
    "suppressWarnings(library(repr))\n",
    "suppressWarnings(library(broom))\n",
    "suppressWarnings(library(gridExtra))"
   ]
  },
  {
   "cell_type": "markdown",
   "metadata": {},
   "source": [
    "# Predicting Vancouver Bicycle Thefts\n",
    "\n",
    "STAT 201 Project Group 6\n",
    "\n",
    "**By:** Benjamin Chang, Dennis Fan, Justin Kung, Selena Shew"
   ]
  },
  {
   "cell_type": "markdown",
   "metadata": {},
   "source": [
    "## Introduction\n",
    "\n",
    "The City of Vancouver aims to be on the leading edge of urban sustainability (City of Vancouver, 2020). As part of this strategy, the city encourages individuals to reduce their carbon footprints through sustainable commuting (e.g., public transport, biking, and sustainable driving). Of the three sustainable commuting options, biking has the lowest day-to-day carbon footprint. However, Vancouver is ranked as having the highest number of thefts per capita in Canada (Ballard, 2021) and potential cyclists rank fear of bike theft as one of the top deterrents (Agarwal & North, 2012).\n",
    "\n",
    "Research on bike theft in Canada conducted in Montreal suggests bike theft peaks during summer months and that bikes are more frequently stolen during the night (Lierop van et al., 2015). This can inform when higher care to security should be exercised by bike owners. We seek to further investigate whether bike owners should exercise more care based on usage patterns (i.e., transportation to/from work vs. leisure). To obtain a first-order approximation to this question, we will investigate whether there is a meaningful difference between the mean daily bike thefts occurring on weekdays vs. weekends, using the typical workweek as a proxy for usage pattern.\n",
    "\n",
    "\n",
    "The Crime Data from the Vancouver Police Department (VPD) (https://geodash.vpd.ca/opendata/) contains ~33,000 bike crime records between 2003 and 2021. This sample will help us draw inference to a population of all Vancouver bike thefts both in the past and in the future. \n",
    "\n",
    "Our main question is \"Whether there exists a significant difference (alpha = 0.05) in the mean number of daily bike thefts between weekdays and weekends\". To investigate this question, the difference in mean daily bike thefts will be our *variable of interest* and our *categories* are weekdays (M-F) vs. weekends (S-Su). Our parameter of interest would the difference in means between categories alongside the standard error to help understand the variability of our result.\n",
    "\n",
    "This initial investigation can provide a high-level characterization of weekday crime vs weekend and further analysis can follow to obtain a detailed understanding using more specific drivers (e.g., times during weekdays vs weekends, neighbourhoods, etc.)"
   ]
  },
  {
   "cell_type": "markdown",
   "metadata": {},
   "source": [
    "### Wrangling and Exploration of Data"
   ]
  },
  {
   "cell_type": "code",
   "execution_count": 2,
   "metadata": {},
   "outputs": [
    {
     "data": {
      "text/html": [
       "<table>\n",
       "<caption>A tibble: 6 × 10</caption>\n",
       "<thead>\n",
       "\t<tr><th scope=col>TYPE</th><th scope=col>YEAR</th><th scope=col>MONTH</th><th scope=col>DAY</th><th scope=col>HOUR</th><th scope=col>MINUTE</th><th scope=col>HUNDRED_BLOCK</th><th scope=col>NEIGHBOURHOOD</th><th scope=col>X</th><th scope=col>Y</th></tr>\n",
       "\t<tr><th scope=col>&lt;chr&gt;</th><th scope=col>&lt;dbl&gt;</th><th scope=col>&lt;dbl&gt;</th><th scope=col>&lt;dbl&gt;</th><th scope=col>&lt;dbl&gt;</th><th scope=col>&lt;dbl&gt;</th><th scope=col>&lt;chr&gt;</th><th scope=col>&lt;chr&gt;</th><th scope=col>&lt;dbl&gt;</th><th scope=col>&lt;dbl&gt;</th></tr>\n",
       "</thead>\n",
       "<tbody>\n",
       "\t<tr><td>Break and Enter Commercial</td><td>2012</td><td>12</td><td>14</td><td> 8</td><td>52</td><td>NA             </td><td>Oakridge</td><td>491285.0</td><td>5453433</td></tr>\n",
       "\t<tr><td>Break and Enter Commercial</td><td>2019</td><td> 3</td><td> 7</td><td> 2</td><td> 6</td><td>10XX SITKA SQ  </td><td>Fairview</td><td>490613.0</td><td>5457110</td></tr>\n",
       "\t<tr><td>Break and Enter Commercial</td><td>2019</td><td> 8</td><td>27</td><td> 4</td><td>12</td><td>10XX ALBERNI ST</td><td>West End</td><td>491007.8</td><td>5459174</td></tr>\n",
       "\t<tr><td>Break and Enter Commercial</td><td>2014</td><td> 8</td><td> 8</td><td> 5</td><td>13</td><td>10XX ALBERNI ST</td><td>West End</td><td>491015.9</td><td>5459166</td></tr>\n",
       "\t<tr><td>Break and Enter Commercial</td><td>2020</td><td> 7</td><td>28</td><td>19</td><td>12</td><td>10XX ALBERNI ST</td><td>West End</td><td>491015.9</td><td>5459166</td></tr>\n",
       "\t<tr><td>Break and Enter Commercial</td><td>2005</td><td>11</td><td>14</td><td> 3</td><td> 9</td><td>10XX ALBERNI ST</td><td>West End</td><td>491021.4</td><td>5459161</td></tr>\n",
       "</tbody>\n",
       "</table>\n"
      ],
      "text/latex": [
       "A tibble: 6 × 10\n",
       "\\begin{tabular}{llllllllll}\n",
       " TYPE & YEAR & MONTH & DAY & HOUR & MINUTE & HUNDRED\\_BLOCK & NEIGHBOURHOOD & X & Y\\\\\n",
       " <chr> & <dbl> & <dbl> & <dbl> & <dbl> & <dbl> & <chr> & <chr> & <dbl> & <dbl>\\\\\n",
       "\\hline\n",
       "\t Break and Enter Commercial & 2012 & 12 & 14 &  8 & 52 & NA              & Oakridge & 491285.0 & 5453433\\\\\n",
       "\t Break and Enter Commercial & 2019 &  3 &  7 &  2 &  6 & 10XX SITKA SQ   & Fairview & 490613.0 & 5457110\\\\\n",
       "\t Break and Enter Commercial & 2019 &  8 & 27 &  4 & 12 & 10XX ALBERNI ST & West End & 491007.8 & 5459174\\\\\n",
       "\t Break and Enter Commercial & 2014 &  8 &  8 &  5 & 13 & 10XX ALBERNI ST & West End & 491015.9 & 5459166\\\\\n",
       "\t Break and Enter Commercial & 2020 &  7 & 28 & 19 & 12 & 10XX ALBERNI ST & West End & 491015.9 & 5459166\\\\\n",
       "\t Break and Enter Commercial & 2005 & 11 & 14 &  3 &  9 & 10XX ALBERNI ST & West End & 491021.4 & 5459161\\\\\n",
       "\\end{tabular}\n"
      ],
      "text/markdown": [
       "\n",
       "A tibble: 6 × 10\n",
       "\n",
       "| TYPE &lt;chr&gt; | YEAR &lt;dbl&gt; | MONTH &lt;dbl&gt; | DAY &lt;dbl&gt; | HOUR &lt;dbl&gt; | MINUTE &lt;dbl&gt; | HUNDRED_BLOCK &lt;chr&gt; | NEIGHBOURHOOD &lt;chr&gt; | X &lt;dbl&gt; | Y &lt;dbl&gt; |\n",
       "|---|---|---|---|---|---|---|---|---|---|\n",
       "| Break and Enter Commercial | 2012 | 12 | 14 |  8 | 52 | NA              | Oakridge | 491285.0 | 5453433 |\n",
       "| Break and Enter Commercial | 2019 |  3 |  7 |  2 |  6 | 10XX SITKA SQ   | Fairview | 490613.0 | 5457110 |\n",
       "| Break and Enter Commercial | 2019 |  8 | 27 |  4 | 12 | 10XX ALBERNI ST | West End | 491007.8 | 5459174 |\n",
       "| Break and Enter Commercial | 2014 |  8 |  8 |  5 | 13 | 10XX ALBERNI ST | West End | 491015.9 | 5459166 |\n",
       "| Break and Enter Commercial | 2020 |  7 | 28 | 19 | 12 | 10XX ALBERNI ST | West End | 491015.9 | 5459166 |\n",
       "| Break and Enter Commercial | 2005 | 11 | 14 |  3 |  9 | 10XX ALBERNI ST | West End | 491021.4 | 5459161 |\n",
       "\n"
      ],
      "text/plain": [
       "  TYPE                       YEAR MONTH DAY HOUR MINUTE HUNDRED_BLOCK  \n",
       "1 Break and Enter Commercial 2012 12    14   8   52     NA             \n",
       "2 Break and Enter Commercial 2019  3     7   2    6     10XX SITKA SQ  \n",
       "3 Break and Enter Commercial 2019  8    27   4   12     10XX ALBERNI ST\n",
       "4 Break and Enter Commercial 2014  8     8   5   13     10XX ALBERNI ST\n",
       "5 Break and Enter Commercial 2020  7    28  19   12     10XX ALBERNI ST\n",
       "6 Break and Enter Commercial 2005 11    14   3    9     10XX ALBERNI ST\n",
       "  NEIGHBOURHOOD X        Y      \n",
       "1 Oakridge      491285.0 5453433\n",
       "2 Fairview      490613.0 5457110\n",
       "3 West End      491007.8 5459174\n",
       "4 West End      491015.9 5459166\n",
       "5 West End      491015.9 5459166\n",
       "6 West End      491021.4 5459161"
      ]
     },
     "metadata": {},
     "output_type": "display_data"
    }
   ],
   "source": [
    "# We first load the VPD Crime data by reading in CSV from the web\n",
    "URL = \"http://geodash.vpd.ca/opendata/crimedata_download/crimedata_csv_all_years.csv\"\n",
    "data = read_csv(URL, col_types = cols())\n",
    "head(data)"
   ]
  },
  {
   "cell_type": "markdown",
   "metadata": {},
   "source": [
    "We first filter the crime type to only bike thefts. Following this, we create a new column called `weekend` with a boolean value indicating weekday/weekend. This is done by manipulating the `YEAR`, `MONTH` and `DAY` columns with some functionality from the `lubridate` library. We also filter to only include observations between 2003-2020 for reproducibility of analysis, since the VPD dataset is updated daily M-F at 10:30am."
   ]
  },
  {
   "cell_type": "code",
   "execution_count": 3,
   "metadata": {},
   "outputs": [
    {
     "data": {
      "text/html": [
       "<table>\n",
       "<caption>A tibble: 6 × 4</caption>\n",
       "<thead>\n",
       "\t<tr><th scope=col>TYPE</th><th scope=col>date</th><th scope=col>day</th><th scope=col>weekend</th></tr>\n",
       "\t<tr><th scope=col>&lt;chr&gt;</th><th scope=col>&lt;date&gt;</th><th scope=col>&lt;dbl&gt;</th><th scope=col>&lt;lgl&gt;</th></tr>\n",
       "</thead>\n",
       "<tbody>\n",
       "\t<tr><td>Theft of Bicycle</td><td>2003-01-01</td><td>4</td><td>FALSE</td></tr>\n",
       "\t<tr><td>Theft of Bicycle</td><td>2003-01-01</td><td>4</td><td>FALSE</td></tr>\n",
       "\t<tr><td>Theft of Bicycle</td><td>2003-01-01</td><td>4</td><td>FALSE</td></tr>\n",
       "\t<tr><td>Theft of Bicycle</td><td>2003-01-01</td><td>4</td><td>FALSE</td></tr>\n",
       "\t<tr><td>Theft of Bicycle</td><td>2003-01-02</td><td>5</td><td>FALSE</td></tr>\n",
       "\t<tr><td>Theft of Bicycle</td><td>2003-01-03</td><td>6</td><td>FALSE</td></tr>\n",
       "</tbody>\n",
       "</table>\n"
      ],
      "text/latex": [
       "A tibble: 6 × 4\n",
       "\\begin{tabular}{llll}\n",
       " TYPE & date & day & weekend\\\\\n",
       " <chr> & <date> & <dbl> & <lgl>\\\\\n",
       "\\hline\n",
       "\t Theft of Bicycle & 2003-01-01 & 4 & FALSE\\\\\n",
       "\t Theft of Bicycle & 2003-01-01 & 4 & FALSE\\\\\n",
       "\t Theft of Bicycle & 2003-01-01 & 4 & FALSE\\\\\n",
       "\t Theft of Bicycle & 2003-01-01 & 4 & FALSE\\\\\n",
       "\t Theft of Bicycle & 2003-01-02 & 5 & FALSE\\\\\n",
       "\t Theft of Bicycle & 2003-01-03 & 6 & FALSE\\\\\n",
       "\\end{tabular}\n"
      ],
      "text/markdown": [
       "\n",
       "A tibble: 6 × 4\n",
       "\n",
       "| TYPE &lt;chr&gt; | date &lt;date&gt; | day &lt;dbl&gt; | weekend &lt;lgl&gt; |\n",
       "|---|---|---|---|\n",
       "| Theft of Bicycle | 2003-01-01 | 4 | FALSE |\n",
       "| Theft of Bicycle | 2003-01-01 | 4 | FALSE |\n",
       "| Theft of Bicycle | 2003-01-01 | 4 | FALSE |\n",
       "| Theft of Bicycle | 2003-01-01 | 4 | FALSE |\n",
       "| Theft of Bicycle | 2003-01-02 | 5 | FALSE |\n",
       "| Theft of Bicycle | 2003-01-03 | 6 | FALSE |\n",
       "\n"
      ],
      "text/plain": [
       "  TYPE             date       day weekend\n",
       "1 Theft of Bicycle 2003-01-01 4   FALSE  \n",
       "2 Theft of Bicycle 2003-01-01 4   FALSE  \n",
       "3 Theft of Bicycle 2003-01-01 4   FALSE  \n",
       "4 Theft of Bicycle 2003-01-01 4   FALSE  \n",
       "5 Theft of Bicycle 2003-01-02 5   FALSE  \n",
       "6 Theft of Bicycle 2003-01-03 6   FALSE  "
      ]
     },
     "metadata": {},
     "output_type": "display_data"
    }
   ],
   "source": [
    "bike_theft_data <- data %>%\n",
    "    filter(TYPE == \"Theft of Bicycle\") %>% # Filter crime type to bike theft\n",
    "    mutate(ymdsum = DAY + (MONTH * 100) + (YEAR * 10000)) %>% # Create helper columns to facilitate categorization of weekday vs weekend\n",
    "    mutate(date = ymd(ymdsum)) %>% \n",
    "    mutate(day = wday(date)) %>%\n",
    "    mutate(weekend = (day == 1 | day == 7)) %>% # Create column categorizing weekday (FALSE) and weekend (TRUE)\n",
    "    filter(YEAR <= 2020) %>% # Filtering for before March 15, 2021 (Snapshot in time, \n",
    "                             # since we are working with live data)\n",
    "    arrange(date)\n",
    "\n",
    "# Select the parameters of interest, keeping some variables for context\n",
    "bike_theft_data <- bike_theft_data[-c(2,3,4,5,6,7,8,9,10,11)]\n",
    "head(bike_theft_data)"
   ]
  },
  {
   "cell_type": "markdown",
   "metadata": {},
   "source": [
    "The data is summarized below. Points of highlight are the total reported incidents of bike theft (\\~33,300) between the period 2003-2020. Approximately \\~9300 thefts (\\~28%) occurred over a weekend. This \\~28% figure corresponds to slightly less than \\~28.6% (2/7 based on the number of weekend days in a week), which may be an early indication that the effect size will be small in our investigation."
   ]
  },
  {
   "cell_type": "code",
   "execution_count": 4,
   "metadata": {},
   "outputs": [
    {
     "name": "stdout",
     "output_type": "stream",
     "text": [
      "[1] \"Table 1: Summary of raw observations from VPD GeoDash between 2003-2020\"\n"
     ]
    },
    {
     "data": {
      "text/plain": [
       "     TYPE                date                 day         weekend       \n",
       " Length:33316       Min.   :2003-01-01   Min.   :1.000   Mode :logical  \n",
       " Class :character   1st Qu.:2009-05-28   1st Qu.:2.000   FALSE:24043    \n",
       " Mode  :character   Median :2014-01-19   Median :4.000   TRUE :9273     \n",
       "                    Mean   :2013-02-20   Mean   :4.002                  \n",
       "                    3rd Qu.:2017-03-29   3rd Qu.:6.000                  \n",
       "                    Max.   :2020-12-31   Max.   :7.000                  "
      ]
     },
     "metadata": {},
     "output_type": "display_data"
    }
   ],
   "source": [
    "print(\"Table 1: Summary of raw observations from VPD GeoDash between 2003-2020\")\n",
    "summary(bike_theft_data)\n"
   ]
  },
  {
   "cell_type": "markdown",
   "metadata": {},
   "source": [
    "To facilitate our hypothesis testing, the data is further converted into daily observations reflecting the number of bicycle thefts on each day (n = 6575 = number of days between \\[2003-01-01, 2020-12-31]). We do this by joining the crime dataset to a tibble with all dates between 2003-2020 and replace NA values with 0 since the complete dataset did not have any missing dates (implying that no bike thefts occurred on dates ending up with NA values ~300)."
   ]
  },
  {
   "cell_type": "code",
   "execution_count": 5,
   "metadata": {},
   "outputs": [
    {
     "name": "stderr",
     "output_type": "stream",
     "text": [
      "`summarise()` ungrouping output (override with `.groups` argument)\n",
      "\n"
     ]
    },
    {
     "name": "stdout",
     "output_type": "stream",
     "text": [
      "[1] \"Table 2: Summary of consolidated daily theft data\"\n"
     ]
    },
    {
     "data": {
      "text/plain": [
       "      date                thefts            day     weekend       \n",
       " Min.   :2003-01-01   Min.   : 0.000   Min.   :1   Mode :logical  \n",
       " 1st Qu.:2007-07-02   1st Qu.: 2.000   1st Qu.:2   FALSE:4697     \n",
       " Median :2012-01-01   Median : 4.000   Median :4   TRUE :1878     \n",
       " Mean   :2012-01-01   Mean   : 5.067   Mean   :4                  \n",
       " 3rd Qu.:2016-07-01   3rd Qu.: 7.000   3rd Qu.:6                  \n",
       " Max.   :2020-12-31   Max.   :30.000   Max.   :7                  "
      ]
     },
     "metadata": {},
     "output_type": "display_data"
    }
   ],
   "source": [
    "# Wrangle data to obtain number of crimes on each date\n",
    "daily_bike_theft <- bike_theft_data %>% \n",
    "    group_by(date) %>%\n",
    "    summarise(thefts = n()) \n",
    "\n",
    "# Create a new dataframe with all dates between 2003 and 2020\n",
    "daily_bike_crime_all_dates <- tibble(\n",
    "    date = seq(as.Date(\"2003-01-01\"), as.Date(\"2020-12-31\"), by=\"days\"))\n",
    "\n",
    "# Merge complete date df and thefts dataframe, setting thefts to 0 for days with no crime logged \n",
    "daily_bike_crime_merged <- merge(x = daily_bike_crime_all_dates, y = daily_bike_theft, by = \"date\", all.x = TRUE)\n",
    "daily_bike_crime_merged$thefts[is.na(daily_bike_crime_merged$thefts)] <- 0\n",
    "\n",
    "# Re-introduce adjusted dataset\n",
    "daily_bike_theft <- daily_bike_crime_merged %>% \n",
    "    mutate(day = wday(date)) %>% \n",
    "    mutate(weekend = (day == 1 | day == 7))\n",
    "\n",
    "print(\"Table 2: Summary of consolidated daily theft data\")\n",
    "summary(daily_bike_theft)"
   ]
  },
  {
   "cell_type": "markdown",
   "metadata": {},
   "source": [
    "The data is visualized in aggregate through **Figure 1: Total number of bicycle thefts vs days of week** and **Figure 2: Boxplot of mean bike thefts by category** the average number of crimes between weekdays and weekends. Based on the boxplot, we observe that weekdays and weekends have similar means with similar standard deviations."
   ]
  },
  {
   "cell_type": "code",
   "execution_count": 6,
   "metadata": {
    "scrolled": false
   },
   "outputs": [
    {
     "data": {
      "image/png": "[encoded data removed]",
      "text/plain": [
       "plot without title"
      ]
     },
     "metadata": {
      "image/png": {
       "height": 480,
       "width": 1200
      }
     },
     "output_type": "display_data"
    }
   ],
   "source": [
    "text_size <- 20\n",
    "options(repr.plot.height = 8, repr.plot.width = 20)\n",
    "\n",
    "# Bar plot to examine total crimes by day\n",
    "total_by_days <- bike_theft_data %>%\n",
    "    ggplot(aes(x = day, fill = weekend)) +\n",
    "    geom_bar() + \n",
    "    scale_x_continuous(breaks=1:7, labels=c(\"Sun\", \"Mon\",\"Tue\",\"Wed\",\"Thu\",\"Fri\",\"Sat\")) +\n",
    "    labs(x = \"Day of week\", y = \"Total bike thefts\", title = \"Figure 1: Total bike theft by day (2003-2020)\") +\n",
    "    theme(text = element_text(size=text_size))\n",
    "\n",
    "# Box plot to examine total crimes by day\n",
    "mean_by_category <- daily_bike_theft %>% \n",
    "    ggplot(aes(x = weekend, y = thefts, fill = weekend)) + \n",
    "    geom_boxplot() + \n",
    "    ylab(\"Mean bike thefts\") +\n",
    "    ggtitle(\"Figure 2: Boxplot mean bike thefts (2003-2020)\") +\n",
    "    theme(text = element_text(size=text_size))\n",
    "\n",
    "gridExtra::grid.arrange(total_by_days, mean_by_category, ncol = 2)  "
   ]
  },
  {
   "cell_type": "markdown",
   "metadata": {},
   "source": [
    "To further understand the data, sample histograms are plotted in **Figure 3: Histogram of weekday thefts** and **Figure 4: Histogram of weekend thefts**. Based on the histograms, we see that both categories have similar shapes (unimodal right skew) and variability."
   ]
  },
  {
   "cell_type": "code",
   "execution_count": 7,
   "metadata": {},
   "outputs": [
    {
     "data": {
      "image/png": "[encoded data removed]",
      "text/plain": [
       "plot without title"
      ]
     },
     "metadata": {
      "image/png": {
       "height": 360,
       "width": 1200
      }
     },
     "output_type": "display_data"
    },
    {
     "data": {
      "image/png": "[encoded data removed]",
      "text/plain": [
       "plot without title"
      ]
     },
     "metadata": {
      "image/png": {
       "height": 360,
       "width": 1200
      }
     },
     "output_type": "display_data"
    }
   ],
   "source": [
    "options(repr.plot.height = 6, repr.plot.width = 20)\n",
    "\n",
    "# Weekday theft histogram\n",
    "weekday_crime_histogram <- daily_bike_theft %>%\n",
    "    filter(!weekend) %>% \n",
    "    ggplot() +\n",
    "    geom_histogram(aes(x=thefts, y = ..density..), color = 'white', fill = '#F8766D', bins = 30) +\n",
    "    ggtitle(\"Figure 3: Histogram of weekday thefts (2003-2020)\") +\n",
    "    xlab(\"Thefts per day\") +\n",
    "    scale_y_continuous(limits = c(0,0.14)) +\n",
    "    theme(text = element_text(size = 20))\n",
    "weekday_crime_histogram\n",
    "\n",
    "# Weekend theft histogram\n",
    "weekend_crime_histogram <- daily_bike_theft %>%\n",
    "    filter(weekend) %>% \n",
    "    ggplot() +\n",
    "    geom_histogram(aes(x=thefts, y = ..density..), color ='white', fill = '#00BFC4', bins = 30) +\n",
    "    ggtitle(\"Figure 4: Histogram of weekend thefts (2003-2020)\") +\n",
    "    xlab(\"Thefts per day\") +\n",
    "    scale_y_continuous(limits = c(0,0.14)) +\n",
    "    theme(text = element_text(size = 20))\n",
    "weekend_crime_histogram"
   ]
  },
  {
   "cell_type": "markdown",
   "metadata": {},
   "source": [
    "We can calculate our parameters of interest, the average bike thefts on weekdays and weekends, to arrive at our test statistic (the difference in mean daily thefts for weekdays vs. weekends)."
   ]
  },
  {
   "cell_type": "code",
   "execution_count": 8,
   "metadata": {},
   "outputs": [
    {
     "name": "stderr",
     "output_type": "stream",
     "text": [
      "`summarise()` ungrouping output (override with `.groups` argument)\n",
      "\n"
     ]
    },
    {
     "data": {
      "text/html": [
       "<table>\n",
       "<caption>A tibble: 2 × 2</caption>\n",
       "<thead>\n",
       "\t<tr><th scope=col>weekend</th><th scope=col>mean</th></tr>\n",
       "\t<tr><th scope=col>&lt;lgl&gt;</th><th scope=col>&lt;dbl&gt;</th></tr>\n",
       "</thead>\n",
       "<tbody>\n",
       "\t<tr><td>FALSE</td><td>5.118799</td></tr>\n",
       "\t<tr><td> TRUE</td><td>4.937700</td></tr>\n",
       "</tbody>\n",
       "</table>\n"
      ],
      "text/latex": [
       "A tibble: 2 × 2\n",
       "\\begin{tabular}{ll}\n",
       " weekend & mean\\\\\n",
       " <lgl> & <dbl>\\\\\n",
       "\\hline\n",
       "\t FALSE & 5.118799\\\\\n",
       "\t  TRUE & 4.937700\\\\\n",
       "\\end{tabular}\n"
      ],
      "text/markdown": [
       "\n",
       "A tibble: 2 × 2\n",
       "\n",
       "| weekend &lt;lgl&gt; | mean &lt;dbl&gt; |\n",
       "|---|---|\n",
       "| FALSE | 5.118799 |\n",
       "|  TRUE | 4.937700 |\n",
       "\n"
      ],
      "text/plain": [
       "  weekend mean    \n",
       "1 FALSE   5.118799\n",
       "2  TRUE   4.937700"
      ]
     },
     "metadata": {},
     "output_type": "display_data"
    },
    {
     "name": "stdout",
     "output_type": "stream",
     "text": [
      "[1] \"Observed test statistic\"\n",
      "[1] 0.1810996\n"
     ]
    }
   ],
   "source": [
    "grouped_by_weekend <- daily_bike_theft %>% \n",
    "    group_by(weekend) %>% \n",
    "    summarize(mean = mean(thefts))\n",
    "grouped_by_weekend\n",
    "\n",
    "obs_stat = grouped_by_weekend$mean[1] - grouped_by_weekend$mean[2]\n",
    "print(\"Observed test statistic\")\n",
    "print(obs_stat)\n"
   ]
  },
  {
   "cell_type": "markdown",
   "metadata": {},
   "source": [
    "## Methods\n",
    "\n",
    "**Overview of Methodology**\n",
    "\n",
    "Our test statistic is the difference between mean daily thefts occurring on weekdays vs. weekends. Mean daily thefts represent the average number of bike thefts per day. Each observation represents a single day, categorized as either a weekday (Monday - Friday) or a weekend (Saturday, Sunday).\n",
    "\n",
    "To determine if there is a significant (alpha = 0.05) difference between the mean daily bike thefts occurring on weekdays vs. weekends (categorical variable), we first define our null hypothesis as the two categories having an equal number of average daily thefts.\n",
    "\n",
    "\\begin{equation}\n",
    "H_0: \\mu_{Weekday} - \\mu_{Weekend} = 0\n",
    "\\end{equation}\n",
    "\n",
    "Our alternate hypothesis is defined as there is a difference between the average number of bike thefts between categories.\n",
    "\n",
    "\\begin{equation}\n",
    "H_A: \\mu_{Weekday} - \\mu_{Weekend} \\neq 0\n",
    "\\end{equation}\n",
    "\n",
    "These hypotheses are tested using three different methods in the following report: 1) bootstrapping and 2) CLT approximation with t-distribution. For each method, a test statistic, p-value, and 95% confidence interval are calculated. \n",
    "\n",
    "- The test statistic reflects the difference between means we observe based on our sample. Please note that this differs for the bootstrap method, which reflects the average observed difference from 5000 simulations (with replacement) of size 6575. \n",
    "\n",
    "- The p-value in each test should be interpreted as the probability of observing the above test statistic or one that is more extreme, assuming the null hypothesis is true.\n",
    "\n",
    "- The confidence interval should be interpreted as the plausible range of values where the true parameter may lie. In other words, if we were to repeat the sampling process and calculate 95% confidence intervals each time and repeat this process many times, then 95% of the intervals would capture the population parameter’s value.\n",
    "\n",
    "\n",
    "*Note: Our interpretations of the data include the following:*\n",
    "- Classification of weekends as Saturday & Sunday, which does not reflect occasions such as statutory long weekends\n",
    "- Date is interpreted as the true time when a theft was committed or the beginning time of when a theft was suspected of being committed (clarified through correspondence with VPD). One implication of this is that thefts may be over-represented on Fridays if users do not check their bikes between Friday and the next weekday use (Monday)."
   ]
  },
  {
   "cell_type": "markdown",
   "metadata": {},
   "source": [
    "### 1. Bootstrap Method"
   ]
  },
  {
   "cell_type": "markdown",
   "metadata": {},
   "source": [
    "Since we are inferring about a population that represents both past and future bike crimes, it is beneficial and justified to use all observations available to us as our sample. We have already wrangled and transformed our data during \"Preliminary Analysis\" into a form where each observation represents a single date and the number of bike thefts on that date (n = 6575). In addition, since our sample (and population) is likely not normally distributed, the bootstrap simulation lends well to this analysis since few assumptions need to be made."
   ]
  },
  {
   "cell_type": "code",
   "execution_count": 9,
   "metadata": {},
   "outputs": [
    {
     "data": {
      "text/html": [
       "<table>\n",
       "<caption>A data.frame: 6 × 4</caption>\n",
       "<thead>\n",
       "\t<tr><th></th><th scope=col>date</th><th scope=col>thefts</th><th scope=col>day</th><th scope=col>weekend</th></tr>\n",
       "\t<tr><th></th><th scope=col>&lt;date&gt;</th><th scope=col>&lt;dbl&gt;</th><th scope=col>&lt;dbl&gt;</th><th scope=col>&lt;lgl&gt;</th></tr>\n",
       "</thead>\n",
       "<tbody>\n",
       "\t<tr><th scope=row>1</th><td>2003-01-01</td><td>4</td><td>4</td><td>FALSE</td></tr>\n",
       "\t<tr><th scope=row>2</th><td>2003-01-02</td><td>1</td><td>5</td><td>FALSE</td></tr>\n",
       "\t<tr><th scope=row>3</th><td>2003-01-03</td><td>2</td><td>6</td><td>FALSE</td></tr>\n",
       "\t<tr><th scope=row>4</th><td>2003-01-04</td><td>5</td><td>7</td><td> TRUE</td></tr>\n",
       "\t<tr><th scope=row>5</th><td>2003-01-05</td><td>6</td><td>1</td><td> TRUE</td></tr>\n",
       "\t<tr><th scope=row>6</th><td>2003-01-06</td><td>4</td><td>2</td><td>FALSE</td></tr>\n",
       "</tbody>\n",
       "</table>\n"
      ],
      "text/latex": [
       "A data.frame: 6 × 4\n",
       "\\begin{tabular}{r|llll}\n",
       "  & date & thefts & day & weekend\\\\\n",
       "  & <date> & <dbl> & <dbl> & <lgl>\\\\\n",
       "\\hline\n",
       "\t1 & 2003-01-01 & 4 & 4 & FALSE\\\\\n",
       "\t2 & 2003-01-02 & 1 & 5 & FALSE\\\\\n",
       "\t3 & 2003-01-03 & 2 & 6 & FALSE\\\\\n",
       "\t4 & 2003-01-04 & 5 & 7 &  TRUE\\\\\n",
       "\t5 & 2003-01-05 & 6 & 1 &  TRUE\\\\\n",
       "\t6 & 2003-01-06 & 4 & 2 & FALSE\\\\\n",
       "\\end{tabular}\n"
      ],
      "text/markdown": [
       "\n",
       "A data.frame: 6 × 4\n",
       "\n",
       "| <!--/--> | date &lt;date&gt; | thefts &lt;dbl&gt; | day &lt;dbl&gt; | weekend &lt;lgl&gt; |\n",
       "|---|---|---|---|---|\n",
       "| 1 | 2003-01-01 | 4 | 4 | FALSE |\n",
       "| 2 | 2003-01-02 | 1 | 5 | FALSE |\n",
       "| 3 | 2003-01-03 | 2 | 6 | FALSE |\n",
       "| 4 | 2003-01-04 | 5 | 7 |  TRUE |\n",
       "| 5 | 2003-01-05 | 6 | 1 |  TRUE |\n",
       "| 6 | 2003-01-06 | 4 | 2 | FALSE |\n",
       "\n"
      ],
      "text/plain": [
       "  date       thefts day weekend\n",
       "1 2003-01-01 4      4   FALSE  \n",
       "2 2003-01-02 1      5   FALSE  \n",
       "3 2003-01-03 2      6   FALSE  \n",
       "4 2003-01-04 5      7    TRUE  \n",
       "5 2003-01-05 6      1    TRUE  \n",
       "6 2003-01-06 4      2   FALSE  "
      ]
     },
     "metadata": {},
     "output_type": "display_data"
    },
    {
     "data": {
      "text/html": [
       "<style>\n",
       ".list-inline {list-style: none; margin:0; padding: 0}\n",
       ".list-inline>li {display: inline-block}\n",
       ".list-inline>li:not(:last-child)::after {content: \"\\00b7\"; padding: 0 .5ex}\n",
       "</style>\n",
       "<ol class=list-inline><li>6575</li><li>4</li></ol>\n"
      ],
      "text/latex": [
       "\\begin{enumerate*}\n",
       "\\item 6575\n",
       "\\item 4\n",
       "\\end{enumerate*}\n"
      ],
      "text/markdown": [
       "1. 6575\n",
       "2. 4\n",
       "\n",
       "\n"
      ],
      "text/plain": [
       "[1] 6575    4"
      ]
     },
     "metadata": {},
     "output_type": "display_data"
    }
   ],
   "source": [
    "# We can revisit the cleaned data frame from Preliminary Analysis\n",
    "head(daily_bike_theft)\n",
    "dim(daily_bike_theft)"
   ]
  },
  {
   "cell_type": "markdown",
   "metadata": {},
   "source": [
    "We can generate 5000 bootstrap replicates of size 6575 using the infer package, specifying our response variable as `thefts` our explanatory variable as `weekend`."
   ]
  },
  {
   "cell_type": "code",
   "execution_count": 10,
   "metadata": {},
   "outputs": [
    {
     "data": {
      "text/html": [
       "<table>\n",
       "<caption>A grouped_df: 6 × 3</caption>\n",
       "<thead>\n",
       "\t<tr><th scope=col>replicate</th><th scope=col>thefts</th><th scope=col>weekend</th></tr>\n",
       "\t<tr><th scope=col>&lt;int&gt;</th><th scope=col>&lt;dbl&gt;</th><th scope=col>&lt;fct&gt;</th></tr>\n",
       "</thead>\n",
       "<tbody>\n",
       "\t<tr><td>1</td><td>1</td><td>FALSE</td></tr>\n",
       "\t<tr><td>1</td><td>6</td><td>FALSE</td></tr>\n",
       "\t<tr><td>1</td><td>3</td><td>FALSE</td></tr>\n",
       "\t<tr><td>1</td><td>3</td><td>FALSE</td></tr>\n",
       "\t<tr><td>1</td><td>6</td><td>FALSE</td></tr>\n",
       "\t<tr><td>1</td><td>4</td><td>FALSE</td></tr>\n",
       "</tbody>\n",
       "</table>\n"
      ],
      "text/latex": [
       "A grouped\\_df: 6 × 3\n",
       "\\begin{tabular}{lll}\n",
       " replicate & thefts & weekend\\\\\n",
       " <int> & <dbl> & <fct>\\\\\n",
       "\\hline\n",
       "\t 1 & 1 & FALSE\\\\\n",
       "\t 1 & 6 & FALSE\\\\\n",
       "\t 1 & 3 & FALSE\\\\\n",
       "\t 1 & 3 & FALSE\\\\\n",
       "\t 1 & 6 & FALSE\\\\\n",
       "\t 1 & 4 & FALSE\\\\\n",
       "\\end{tabular}\n"
      ],
      "text/markdown": [
       "\n",
       "A grouped_df: 6 × 3\n",
       "\n",
       "| replicate &lt;int&gt; | thefts &lt;dbl&gt; | weekend &lt;fct&gt; |\n",
       "|---|---|---|\n",
       "| 1 | 1 | FALSE |\n",
       "| 1 | 6 | FALSE |\n",
       "| 1 | 3 | FALSE |\n",
       "| 1 | 3 | FALSE |\n",
       "| 1 | 6 | FALSE |\n",
       "| 1 | 4 | FALSE |\n",
       "\n"
      ],
      "text/plain": [
       "  replicate thefts weekend\n",
       "1 1         1      FALSE  \n",
       "2 1         6      FALSE  \n",
       "3 1         3      FALSE  \n",
       "4 1         3      FALSE  \n",
       "5 1         6      FALSE  \n",
       "6 1         4      FALSE  "
      ]
     },
     "metadata": {},
     "output_type": "display_data"
    }
   ],
   "source": [
    "set.seed(6575)\n",
    "\n",
    "bootstrap_infer_generate <- daily_bike_theft %>% \n",
    "    specify(formula = thefts ~ weekend) %>% \n",
    "    generate(reps = 5000, type = \"bootstrap\")\n",
    "\n",
    "head(bootstrap_infer_generate)"
   ]
  },
  {
   "cell_type": "markdown",
   "metadata": {},
   "source": [
    "Following, this we can calculate the difference in means between the categories by specifying the `stat` and presenting the order subtraction in `order`. "
   ]
  },
  {
   "cell_type": "code",
   "execution_count": 11,
   "metadata": {},
   "outputs": [
    {
     "data": {
      "text/html": [
       "<table>\n",
       "<caption>A tibble: 6 × 2</caption>\n",
       "<thead>\n",
       "\t<tr><th scope=col>replicate</th><th scope=col>stat</th></tr>\n",
       "\t<tr><th scope=col>&lt;int&gt;</th><th scope=col>&lt;dbl&gt;</th></tr>\n",
       "</thead>\n",
       "<tbody>\n",
       "\t<tr><td>1</td><td>-0.07666129</td></tr>\n",
       "\t<tr><td>2</td><td> 0.17899484</td></tr>\n",
       "\t<tr><td>3</td><td>-0.08661500</td></tr>\n",
       "\t<tr><td>4</td><td> 0.24231718</td></tr>\n",
       "\t<tr><td>5</td><td> 0.15036058</td></tr>\n",
       "\t<tr><td>6</td><td> 0.21820289</td></tr>\n",
       "</tbody>\n",
       "</table>\n"
      ],
      "text/latex": [
       "A tibble: 6 × 2\n",
       "\\begin{tabular}{ll}\n",
       " replicate & stat\\\\\n",
       " <int> & <dbl>\\\\\n",
       "\\hline\n",
       "\t 1 & -0.07666129\\\\\n",
       "\t 2 &  0.17899484\\\\\n",
       "\t 3 & -0.08661500\\\\\n",
       "\t 4 &  0.24231718\\\\\n",
       "\t 5 &  0.15036058\\\\\n",
       "\t 6 &  0.21820289\\\\\n",
       "\\end{tabular}\n"
      ],
      "text/markdown": [
       "\n",
       "A tibble: 6 × 2\n",
       "\n",
       "| replicate &lt;int&gt; | stat &lt;dbl&gt; |\n",
       "|---|---|\n",
       "| 1 | -0.07666129 |\n",
       "| 2 |  0.17899484 |\n",
       "| 3 | -0.08661500 |\n",
       "| 4 |  0.24231718 |\n",
       "| 5 |  0.15036058 |\n",
       "| 6 |  0.21820289 |\n",
       "\n"
      ],
      "text/plain": [
       "  replicate stat       \n",
       "1 1         -0.07666129\n",
       "2 2          0.17899484\n",
       "3 3         -0.08661500\n",
       "4 4          0.24231718\n",
       "5 5          0.15036058\n",
       "6 6          0.21820289"
      ]
     },
     "metadata": {},
     "output_type": "display_data"
    }
   ],
   "source": [
    "bootstrap_infer <- bootstrap_infer_generate %>% \n",
    "    calculate(stat = \"diff in means\", order = c(FALSE,TRUE))\n",
    "\n",
    "head(bootstrap_infer)"
   ]
  },
  {
   "cell_type": "markdown",
   "metadata": {},
   "source": [
    "To caculate the average test statistic observed, we take the mean of the 5000 replicate test statistics. For the CI, we use `get_ci` specifying 95% confidence interval. Finally, to obtain the p-value, we can use the get_pvalue function, supplying the observed stat from our original sample and specifying that we are looking for a two-sided test based on our alternative hypothesis."
   ]
  },
  {
   "cell_type": "code",
   "execution_count": 12,
   "metadata": {},
   "outputs": [
    {
     "name": "stdout",
     "output_type": "stream",
     "text": [
      "[1] \"Table 3: Summary of results from bootstrapping\"\n"
     ]
    },
    {
     "data": {
      "text/html": [
       "<table>\n",
       "<caption>A tibble: 1 × 4</caption>\n",
       "<thead>\n",
       "\t<tr><th scope=col>method</th><th scope=col>ci_lower</th><th scope=col>ci_upper</th><th scope=col>p_value</th></tr>\n",
       "\t<tr><th scope=col>&lt;chr&gt;</th><th scope=col>&lt;dbl&gt;</th><th scope=col>&lt;dbl&gt;</th><th scope=col>&lt;dbl&gt;</th></tr>\n",
       "</thead>\n",
       "<tbody>\n",
       "\t<tr><td>bootstrap (infer)</td><td>-0.02697328</td><td>0.3891142</td><td>0.0884</td></tr>\n",
       "</tbody>\n",
       "</table>\n"
      ],
      "text/latex": [
       "A tibble: 1 × 4\n",
       "\\begin{tabular}{llll}\n",
       " method & ci\\_lower & ci\\_upper & p\\_value\\\\\n",
       " <chr> & <dbl> & <dbl> & <dbl>\\\\\n",
       "\\hline\n",
       "\t bootstrap (infer) & -0.02697328 & 0.3891142 & 0.0884\\\\\n",
       "\\end{tabular}\n"
      ],
      "text/markdown": [
       "\n",
       "A tibble: 1 × 4\n",
       "\n",
       "| method &lt;chr&gt; | ci_lower &lt;dbl&gt; | ci_upper &lt;dbl&gt; | p_value &lt;dbl&gt; |\n",
       "|---|---|---|---|\n",
       "| bootstrap (infer) | -0.02697328 | 0.3891142 | 0.0884 |\n",
       "\n"
      ],
      "text/plain": [
       "  method            ci_lower    ci_upper  p_value\n",
       "1 bootstrap (infer) -0.02697328 0.3891142 0.0884 "
      ]
     },
     "metadata": {},
     "output_type": "display_data"
    }
   ],
   "source": [
    "set.seed(6575)\n",
    "\n",
    "# calculate confidence interval\n",
    "bootstrap_infer_ci <- bootstrap_infer %>% \n",
    "    get_ci(level = 0.95, type = \"percentile\")\n",
    "\n",
    "# calculate average observed stat (used to center null distribution later)\n",
    "bootstrap_infer_ts <- mean(bootstrap_infer$stat)\n",
    "\n",
    "# shift bootstrap distribution by mean to center around 0 (null hypothesis)\n",
    "bootstrap_infer_null <- bootstrap_infer %>% \n",
    "    mutate(stat = stat - bootstrap_infer_ts)\n",
    "\n",
    "# calculate p-value\n",
    "bootstrap_infer_p <- bootstrap_infer_null %>% \n",
    "    get_pvalue(obs_stat, \"two sided\") # observed stat calculated in preliminary analysis from sample\n",
    "\n",
    "# combine into a summary dataframe\n",
    "bootstrap_infer_summary <- tibble(method = \"bootstrap (infer)\") %>% \n",
    "    mutate(ci_lower = bootstrap_infer_ci$lower_ci,\n",
    "           ci_upper = bootstrap_infer_ci$upper_ci) %>% \n",
    "    mutate(p_value = bootstrap_infer_p$p_value)\n",
    "\n",
    "print(\"Table 3: Summary of results from bootstrapping\")\n",
    "bootstrap_infer_summary"
   ]
  },
  {
   "cell_type": "markdown",
   "metadata": {},
   "source": [
    "Since the p-value we obtain of \\~0.088 is greater than 0.05 we do not have enough evidence to reject the null hypothesis. This also aligns with our confidence interval of [-0.027, 0.389], which contains the null hypothesis of 0.\n",
    "\n",
    "We can also visualize the null bootstrap distribution and our observed test statistic in **Figure 5** and the confidence interval with the bootstrap distribution in **Figure 6** using `visualize` from `infer` package."
   ]
  },
  {
   "cell_type": "code",
   "execution_count": 13,
   "metadata": {},
   "outputs": [
    {
     "data": {
      "image/png": "[encoded data removed]",
      "text/plain": [
       "plot without title"
      ]
     },
     "metadata": {
      "image/png": {
       "height": 420,
       "width": 1200
      }
     },
     "output_type": "display_data"
    },
    {
     "data": {
      "image/png": "[encoded data removed]",
      "text/plain": [
       "plot without title"
      ]
     },
     "metadata": {
      "image/png": {
       "height": 420,
       "width": 1200
      }
     },
     "output_type": "display_data"
    }
   ],
   "source": [
    "options(repr.plot.height = 7, repr.plot.width = 20)\n",
    "\n",
    "\n",
    "bootstrap_p_cutoff_lower <- bootstrap_infer_null$stat %>% \n",
    "    quantile(prob = 0.025)\n",
    "\n",
    "bootstrap_p_cutoff_upper <- bootstrap_infer_null$stat %>% \n",
    "    quantile(prob = 0.975)\n",
    "\n",
    "bootstrap_infer_null_plot <- bootstrap_infer_null %>% \n",
    "    visualize(bins = 30) + \n",
    "    shade_p_value(obs_stat = bootstrap_p_cutoff_upper, direction = \"both\", size = 1.5) +\n",
    "    annotate(\"text\", x = bootstrap_p_cutoff_lower - 0.11, y = 200, \n",
    "             label = \"Lower significance cutoff\", color=\"red\", size=7) +\n",
    "    geom_segment(aes(x = bootstrap_p_cutoff_lower, y = 640, xend = bootstrap_p_cutoff_lower, yend = 0), \n",
    "                 arrow = arrow(), color = \"red\", size = 1.5) +\n",
    "    annotate(\"text\", x = bootstrap_p_cutoff_upper + 0.11, y = 200, \n",
    "             label = \"Upper significance cutoff\", color=\"red\", size=7) +\n",
    "    geom_segment(aes(x = bootstrap_p_cutoff_upper, y = 640, xend = bootstrap_p_cutoff_upper, yend = 0), \n",
    "                 arrow = arrow(), color = \"red\", size = 1.5) +\n",
    "    annotate(\"text\", x = obs_stat - 0.1, y = 630, label = \"Observed test statistic\", color=\"blue\", size=7) +\n",
    "    geom_segment(aes(x = obs_stat, y = 650, xend = obs_stat, yend = 0), \n",
    "                 arrow = arrow(), color = \"blue\", size = 1.5) +\n",
    "    xlim(-0.6, 0.6) +\n",
    "    ylim(-0, 650) +\n",
    "    theme(text = element_text(size=20)) +\n",
    "    xlab(\"Difference in mean daily bike thefts\") +\n",
    "    ggtitle(\"Figure 5: Bootstrap null distribution and observed statistic\")\n",
    "bootstrap_infer_null_plot\n",
    "\n",
    "bootstrap_infer_ci_plot <- bootstrap_infer %>% \n",
    "    visualize(bins = 30) + \n",
    "    shade_confidence_interval(endpoints = bootstrap_infer_ci) +\n",
    "    geom_segment(aes(x = 0, y = 640, xend = 0, yend = 0), \n",
    "                 arrow = arrow(), color = \"magenta3\", size = 1.5) +\n",
    "    annotate(\"text\", x = 0 - 0.08, y = 200, label = \"Null hypothesis\", color=\"magenta3\", size=7) +\n",
    "    xlim(-0.6, 0.6) +\n",
    "    ylim(-0, 650) +\n",
    "    theme(text = element_text(size=20)) +\n",
    "    xlab(\"Difference in mean daily bike thefts\") +\n",
    "    ggtitle(\"Figure 6: Bootstrap distribution and confidence interval\")\n",
    "\n",
    "bootstrap_infer_ci_plot"
   ]
  },
  {
   "cell_type": "markdown",
   "metadata": {},
   "source": [
    "### 2. CLT with T-distribution"
   ]
  },
  {
   "cell_type": "markdown",
   "metadata": {},
   "source": [
    "To further explore our bootstrap results, we conducted a t-test for the difference in means between weekdays and weekends using the `infer` package's t.test function. We would expect the t-test results to be similar to the normal approximation, as our sample has sufficient degrees of freedom such that the t-distribution would converge to a normal distribution (we include the normal approximation calculation in Appendix A2).\n",
    "\n",
    "To use the CLT approximation, we first check against the following assumptions:\n",
    "1. **The sample is sufficiently large** - our dataset contains ~6500 observations, which is greater than 50.\n",
    "1. **The sample is drawn in an independent fashion** - it is likely that bike theft is reported in an independent fashion, however, there may also be underreporting of bike thefts if the value of the bike is below a certain threshold.\n",
    "2. **The sample size is <10% of the population size** - we are drawing inference on the population of all bike theft in Vancouver both in the past and future, therefore the population can be considered to be very large.\n",
    "3. **The estimator is a sum of random components** - we are using the difference in means, which is a sum of random components.\n",
    "\n",
    "We first subset our weekdays and weekend samples into separate vectors. These vectors are supplied to the t.test function along with our confidence interval of 95% and specification of a two-sided test (based on our alternative hypothesis)."
   ]
  },
  {
   "cell_type": "code",
   "execution_count": 14,
   "metadata": {},
   "outputs": [
    {
     "data": {
      "text/html": [
       "<table>\n",
       "<caption>A tibble: 1 × 10</caption>\n",
       "<thead>\n",
       "\t<tr><th scope=col>estimate</th><th scope=col>estimate1</th><th scope=col>estimate2</th><th scope=col>statistic</th><th scope=col>p.value</th><th scope=col>parameter</th><th scope=col>conf.low</th><th scope=col>conf.high</th><th scope=col>method</th><th scope=col>alternative</th></tr>\n",
       "\t<tr><th scope=col>&lt;dbl&gt;</th><th scope=col>&lt;dbl&gt;</th><th scope=col>&lt;dbl&gt;</th><th scope=col>&lt;dbl&gt;</th><th scope=col>&lt;dbl&gt;</th><th scope=col>&lt;dbl&gt;</th><th scope=col>&lt;dbl&gt;</th><th scope=col>&lt;dbl&gt;</th><th scope=col>&lt;chr&gt;</th><th scope=col>&lt;chr&gt;</th></tr>\n",
       "</thead>\n",
       "<tbody>\n",
       "\t<tr><td>0.1810996</td><td>5.118799</td><td>4.9377</td><td>1.721758</td><td>0.08519987</td><td>3574.156</td><td>-0.02512502</td><td>0.3873241</td><td>Welch Two Sample t-test</td><td>two.sided</td></tr>\n",
       "</tbody>\n",
       "</table>\n"
      ],
      "text/latex": [
       "A tibble: 1 × 10\n",
       "\\begin{tabular}{llllllllll}\n",
       " estimate & estimate1 & estimate2 & statistic & p.value & parameter & conf.low & conf.high & method & alternative\\\\\n",
       " <dbl> & <dbl> & <dbl> & <dbl> & <dbl> & <dbl> & <dbl> & <dbl> & <chr> & <chr>\\\\\n",
       "\\hline\n",
       "\t 0.1810996 & 5.118799 & 4.9377 & 1.721758 & 0.08519987 & 3574.156 & -0.02512502 & 0.3873241 & Welch Two Sample t-test & two.sided\\\\\n",
       "\\end{tabular}\n"
      ],
      "text/markdown": [
       "\n",
       "A tibble: 1 × 10\n",
       "\n",
       "| estimate &lt;dbl&gt; | estimate1 &lt;dbl&gt; | estimate2 &lt;dbl&gt; | statistic &lt;dbl&gt; | p.value &lt;dbl&gt; | parameter &lt;dbl&gt; | conf.low &lt;dbl&gt; | conf.high &lt;dbl&gt; | method &lt;chr&gt; | alternative &lt;chr&gt; |\n",
       "|---|---|---|---|---|---|---|---|---|---|\n",
       "| 0.1810996 | 5.118799 | 4.9377 | 1.721758 | 0.08519987 | 3574.156 | -0.02512502 | 0.3873241 | Welch Two Sample t-test | two.sided |\n",
       "\n"
      ],
      "text/plain": [
       "  estimate  estimate1 estimate2 statistic p.value    parameter conf.low   \n",
       "1 0.1810996 5.118799  4.9377    1.721758  0.08519987 3574.156  -0.02512502\n",
       "  conf.high method                  alternative\n",
       "1 0.3873241 Welch Two Sample t-test two.sided  "
      ]
     },
     "metadata": {},
     "output_type": "display_data"
    }
   ],
   "source": [
    "# we can also use the built-in package for t_distribution\n",
    "\n",
    "weekdays_vector <- daily_bike_theft$thefts[!daily_bike_theft$weekend]\n",
    "weekends_vector <- daily_bike_theft$thefts[daily_bike_theft$weekend]\n",
    "\n",
    "clt_t_test <- \n",
    "    tidy(\n",
    "        t.test(x = weekdays_vector,\n",
    "               y = weekends_vector,\n",
    "               alternative = \"two.sided\", # specify parameter of test\n",
    "               conf.level = 0.95))        # specify confidence interval \n",
    "clt_t_test"
   ]
  },
  {
   "cell_type": "markdown",
   "metadata": {},
   "source": [
    "The t-test yields a slightly lower p-value and tighter confidence interval. This is still congruent with our bootstrap findings and does not change our emerging conclusion to not reject the null hypothesis."
   ]
  },
  {
   "cell_type": "code",
   "execution_count": 15,
   "metadata": {},
   "outputs": [
    {
     "data": {
      "text/html": [
       "<table>\n",
       "<caption>A tibble: 2 × 5</caption>\n",
       "<thead>\n",
       "\t<tr><th scope=col>method</th><th scope=col>ci_lower</th><th scope=col>ci_upper</th><th scope=col>p_value</th><th scope=col>test_statistic</th></tr>\n",
       "\t<tr><th scope=col>&lt;chr&gt;</th><th scope=col>&lt;dbl&gt;</th><th scope=col>&lt;dbl&gt;</th><th scope=col>&lt;dbl&gt;</th><th scope=col>&lt;dbl&gt;</th></tr>\n",
       "</thead>\n",
       "<tbody>\n",
       "\t<tr><td>bootstrap (infer)</td><td>-0.02697328</td><td>0.3891142</td><td>0.08840000</td><td>       NA</td></tr>\n",
       "\t<tr><td>CLT (T-dist)     </td><td>-0.02512502</td><td>0.3873241</td><td>0.08519987</td><td>0.1810996</td></tr>\n",
       "</tbody>\n",
       "</table>\n"
      ],
      "text/latex": [
       "A tibble: 2 × 5\n",
       "\\begin{tabular}{lllll}\n",
       " method & ci\\_lower & ci\\_upper & p\\_value & test\\_statistic\\\\\n",
       " <chr> & <dbl> & <dbl> & <dbl> & <dbl>\\\\\n",
       "\\hline\n",
       "\t bootstrap (infer) & -0.02697328 & 0.3891142 & 0.08840000 &        NA\\\\\n",
       "\t CLT (T-dist)      & -0.02512502 & 0.3873241 & 0.08519987 & 0.1810996\\\\\n",
       "\\end{tabular}\n"
      ],
      "text/markdown": [
       "\n",
       "A tibble: 2 × 5\n",
       "\n",
       "| method &lt;chr&gt; | ci_lower &lt;dbl&gt; | ci_upper &lt;dbl&gt; | p_value &lt;dbl&gt; | test_statistic &lt;dbl&gt; |\n",
       "|---|---|---|---|---|\n",
       "| bootstrap (infer) | -0.02697328 | 0.3891142 | 0.08840000 |        NA |\n",
       "| CLT (T-dist)      | -0.02512502 | 0.3873241 | 0.08519987 | 0.1810996 |\n",
       "\n"
      ],
      "text/plain": [
       "  method            ci_lower    ci_upper  p_value    test_statistic\n",
       "1 bootstrap (infer) -0.02697328 0.3891142 0.08840000        NA     \n",
       "2 CLT (T-dist)      -0.02512502 0.3873241 0.08519987 0.1810996     "
      ]
     },
     "metadata": {},
     "output_type": "display_data"
    }
   ],
   "source": [
    "clt_t_summary <- tibble(method = \"CLT (T-dist)\") %>%\n",
    "    mutate(test_statistic = clt_t_test$estimate,\n",
    "           ci_lower = clt_t_test$conf.low,\n",
    "           ci_upper = clt_t_test$conf.high,\n",
    "           p_value = clt_t_test$p.value)\n",
    "\n",
    "tests_summary <- bind_rows(bootstrap_infer_summary, clt_t_summary)\n",
    "tests_summary"
   ]
  },
  {
   "cell_type": "markdown",
   "metadata": {},
   "source": [
    "### 3. Comparison of Methods and Conclusions"
   ]
  },
  {
   "cell_type": "code",
   "execution_count": 16,
   "metadata": {},
   "outputs": [
    {
     "name": "stdout",
     "output_type": "stream",
     "text": [
      "[1] \"Table 3: Summary of findings from Bootstrap and CLT\"\n"
     ]
    },
    {
     "data": {
      "text/html": [
       "<table>\n",
       "<caption>A tibble: 2 × 5</caption>\n",
       "<thead>\n",
       "\t<tr><th scope=col>method</th><th scope=col>ci_lower</th><th scope=col>ci_upper</th><th scope=col>p_value</th><th scope=col>test_statistic</th></tr>\n",
       "\t<tr><th scope=col>&lt;chr&gt;</th><th scope=col>&lt;dbl&gt;</th><th scope=col>&lt;dbl&gt;</th><th scope=col>&lt;dbl&gt;</th><th scope=col>&lt;dbl&gt;</th></tr>\n",
       "</thead>\n",
       "<tbody>\n",
       "\t<tr><td>bootstrap (infer)</td><td>-0.02697328</td><td>0.3891142</td><td>0.08840000</td><td>       NA</td></tr>\n",
       "\t<tr><td>CLT (T-dist)     </td><td>-0.02512502</td><td>0.3873241</td><td>0.08519987</td><td>0.1810996</td></tr>\n",
       "</tbody>\n",
       "</table>\n"
      ],
      "text/latex": [
       "A tibble: 2 × 5\n",
       "\\begin{tabular}{lllll}\n",
       " method & ci\\_lower & ci\\_upper & p\\_value & test\\_statistic\\\\\n",
       " <chr> & <dbl> & <dbl> & <dbl> & <dbl>\\\\\n",
       "\\hline\n",
       "\t bootstrap (infer) & -0.02697328 & 0.3891142 & 0.08840000 &        NA\\\\\n",
       "\t CLT (T-dist)      & -0.02512502 & 0.3873241 & 0.08519987 & 0.1810996\\\\\n",
       "\\end{tabular}\n"
      ],
      "text/markdown": [
       "\n",
       "A tibble: 2 × 5\n",
       "\n",
       "| method &lt;chr&gt; | ci_lower &lt;dbl&gt; | ci_upper &lt;dbl&gt; | p_value &lt;dbl&gt; | test_statistic &lt;dbl&gt; |\n",
       "|---|---|---|---|---|\n",
       "| bootstrap (infer) | -0.02697328 | 0.3891142 | 0.08840000 |        NA |\n",
       "| CLT (T-dist)      | -0.02512502 | 0.3873241 | 0.08519987 | 0.1810996 |\n",
       "\n"
      ],
      "text/plain": [
       "  method            ci_lower    ci_upper  p_value    test_statistic\n",
       "1 bootstrap (infer) -0.02697328 0.3891142 0.08840000        NA     \n",
       "2 CLT (T-dist)      -0.02512502 0.3873241 0.08519987 0.1810996     "
      ]
     },
     "metadata": {},
     "output_type": "display_data"
    }
   ],
   "source": [
    "print(\"Table 3: Summary of findings from Bootstrap and CLT\")\n",
    "tests_summary"
   ]
  },
  {
   "cell_type": "markdown",
   "metadata": {},
   "source": [
    "Based on our findings for the test statistic, 95% confidence interval, and p-value across 1) bootstrapping and 2) CLT with t-dist approximation, we conclude that there is insufficient evidence to reject the null hypothesis. Both tests yielded p-values greater than our Type I error threshold of 5% and both confidence intervals included the null hypothesis of there being no difference between average daily theft rates on weekdays vs weekends.\n",
    "\n",
    "A conservative interpretation would be to use the bootstrap results, which is more conservative (both for p-value and CI). The bootstrap method also requires fewer assumptions to be made about the sample and population than asymptotic approximations, since bootstrapping uses simulations on the raw data. \n",
    "\n",
    "Based on the above, we deem the bootstrap to be more reliable. Using the bootstrap results, we can report the 95% confidence interval to be within [\\~-0.027, 0.389] and the p-value of our observed statistic under our null hypothesis to be ~0.088. Based on this, we cannot reject our null hypothesis of there being no difference in the average daily bike thefts between weekdays vs. weekends."
   ]
  },
  {
   "cell_type": "markdown",
   "metadata": {},
   "source": [
    "### Discussion"
   ]
  },
  {
   "cell_type": "markdown",
   "metadata": {},
   "source": [
    "Our p-value of 0.088 was higher than our set confidence level of 0.05, which indicates that there is insufficient evidence to say that the mean number of bike thefts on the weekend differs from the weekdays based on our sample size. This may suggest that the public should still be aware and alert of bike crime risk both on weekdays and weekends. Furthermore, the public should be instructed to secure their bikes and take steps to prevent theft with instructions to do so readily available on all days.\n",
    "\n",
    "Our study solely focuses on bike thefts, and public agencies could benefit greatly from investigating the implications of other crimes and how they are affected by the weekday to weekend shift. \n",
    "\n",
    "Building a stronger response to bike thefts requires a deep dive into how other variables affect the mean number of thefts. From the dataset provided, further questions such as how regionality, time of day, or events (such as COVID-19) impact bike theft rates. These further studies with covariates could shed light on how smarter systems to combat theft can be set up.\n",
    "\n",
    "Furthermore, research into how these other factors impact differences between weekday vs. weekend crime rates could be beneficial. With the additional consideration of regionality, geospatial analysis can be used to further determine the correlation between locations and the occurrence of crime. While statistical analysis usually aims to eliminate complications brought upon by spatial autocorrelation, determining whether the mean number of crimes per location differs from other locations may help with identifying places of greatest concern in order to allocate resources efficiently. An example follow-up question for further analysis could be asking whether the mean number of bike thefts on a Friday night in the Downtown Eastside area differs significantly from the same time at UBC (exploring conventional biases)."
   ]
  },
  {
   "cell_type": "markdown",
   "metadata": {},
   "source": [
    "### References\n",
    "\n",
    "1. Agarwal, A., & North, A. (2012). Encouraging Bicycling among University Students: Lessons from Queen’s University, Kingston, Ontario. Canadian Journal of Urban Research, 21(1), 151–168. http://www.jstor.org/stable/26193886\n",
    "2. Ballard, J. (2021, February 4). Vancouver still has the most bike thefts per capita among major Canadian cities, despite efforts | CBC News. CBC. https://www.cbc.ca/news/canada/british-columbia/vancouver-still-has-the-most-bike-thefts-per-capita-among-major-canadian-cities-despite-efforts-1.5898575\n",
    "3. City of Vancouver. (2020). Greenest City Action Plan. https://vancouver.ca/green-vancouver/greenest-city-action-plan.aspx\n",
    "4. Lierop van, D., Grimsrud, M., & El-Geneidy, A. (2015). Breaking into bicycle theft: Insights from Montreal, Canada. International Journal of Sustainable Transportation."
   ]
  },
  {
   "cell_type": "markdown",
   "metadata": {},
   "source": [
    "# APPENDIX"
   ]
  },
  {
   "cell_type": "markdown",
   "metadata": {},
   "source": [
    "## A1: Manual Bootstrap Distribution Generation"
   ]
  },
  {
   "cell_type": "markdown",
   "metadata": {},
   "source": [
    "### A1.1. Generate Bootstrap Replicates"
   ]
  },
  {
   "cell_type": "markdown",
   "metadata": {},
   "source": [
    "We begin bootstrapping by taking 5000 re-samples with replacement of size 6575, to create 5000 simulations of our original dataset."
   ]
  },
  {
   "cell_type": "code",
   "execution_count": 17,
   "metadata": {
    "scrolled": true
   },
   "outputs": [
    {
     "data": {
      "text/html": [
       "<table>\n",
       "<caption>A grouped_df: 6 × 5</caption>\n",
       "<thead>\n",
       "\t<tr><th scope=col>replicate</th><th scope=col>date</th><th scope=col>thefts</th><th scope=col>day</th><th scope=col>weekend</th></tr>\n",
       "\t<tr><th scope=col>&lt;int&gt;</th><th scope=col>&lt;date&gt;</th><th scope=col>&lt;dbl&gt;</th><th scope=col>&lt;dbl&gt;</th><th scope=col>&lt;lgl&gt;</th></tr>\n",
       "</thead>\n",
       "<tbody>\n",
       "\t<tr><td>1</td><td>2008-03-21</td><td>1</td><td>6</td><td>FALSE</td></tr>\n",
       "\t<tr><td>1</td><td>2007-02-06</td><td>6</td><td>3</td><td>FALSE</td></tr>\n",
       "\t<tr><td>1</td><td>2012-12-19</td><td>3</td><td>4</td><td>FALSE</td></tr>\n",
       "\t<tr><td>1</td><td>2020-03-16</td><td>3</td><td>2</td><td>FALSE</td></tr>\n",
       "\t<tr><td>1</td><td>2017-10-03</td><td>6</td><td>3</td><td>FALSE</td></tr>\n",
       "\t<tr><td>1</td><td>2007-10-11</td><td>4</td><td>5</td><td>FALSE</td></tr>\n",
       "</tbody>\n",
       "</table>\n"
      ],
      "text/latex": [
       "A grouped\\_df: 6 × 5\n",
       "\\begin{tabular}{lllll}\n",
       " replicate & date & thefts & day & weekend\\\\\n",
       " <int> & <date> & <dbl> & <dbl> & <lgl>\\\\\n",
       "\\hline\n",
       "\t 1 & 2008-03-21 & 1 & 6 & FALSE\\\\\n",
       "\t 1 & 2007-02-06 & 6 & 3 & FALSE\\\\\n",
       "\t 1 & 2012-12-19 & 3 & 4 & FALSE\\\\\n",
       "\t 1 & 2020-03-16 & 3 & 2 & FALSE\\\\\n",
       "\t 1 & 2017-10-03 & 6 & 3 & FALSE\\\\\n",
       "\t 1 & 2007-10-11 & 4 & 5 & FALSE\\\\\n",
       "\\end{tabular}\n"
      ],
      "text/markdown": [
       "\n",
       "A grouped_df: 6 × 5\n",
       "\n",
       "| replicate &lt;int&gt; | date &lt;date&gt; | thefts &lt;dbl&gt; | day &lt;dbl&gt; | weekend &lt;lgl&gt; |\n",
       "|---|---|---|---|---|\n",
       "| 1 | 2008-03-21 | 1 | 6 | FALSE |\n",
       "| 1 | 2007-02-06 | 6 | 3 | FALSE |\n",
       "| 1 | 2012-12-19 | 3 | 4 | FALSE |\n",
       "| 1 | 2020-03-16 | 3 | 2 | FALSE |\n",
       "| 1 | 2017-10-03 | 6 | 3 | FALSE |\n",
       "| 1 | 2007-10-11 | 4 | 5 | FALSE |\n",
       "\n"
      ],
      "text/plain": [
       "  replicate date       thefts day weekend\n",
       "1 1         2008-03-21 1      6   FALSE  \n",
       "2 1         2007-02-06 6      3   FALSE  \n",
       "3 1         2012-12-19 3      4   FALSE  \n",
       "4 1         2020-03-16 3      2   FALSE  \n",
       "5 1         2017-10-03 6      3   FALSE  \n",
       "6 1         2007-10-11 4      5   FALSE  "
      ]
     },
     "metadata": {},
     "output_type": "display_data"
    },
    {
     "data": {
      "text/html": [
       "<style>\n",
       ".list-inline {list-style: none; margin:0; padding: 0}\n",
       ".list-inline>li {display: inline-block}\n",
       ".list-inline>li:not(:last-child)::after {content: \"\\00b7\"; padding: 0 .5ex}\n",
       "</style>\n",
       "<ol class=list-inline><li>32875000</li><li>5</li></ol>\n"
      ],
      "text/latex": [
       "\\begin{enumerate*}\n",
       "\\item 32875000\n",
       "\\item 5\n",
       "\\end{enumerate*}\n"
      ],
      "text/markdown": [
       "1. 32875000\n",
       "2. 5\n",
       "\n",
       "\n"
      ],
      "text/plain": [
       "[1] 32875000        5"
      ]
     },
     "metadata": {},
     "output_type": "display_data"
    }
   ],
   "source": [
    "set.seed(6575)\n",
    "\n",
    "size <- nrow(daily_bike_theft) # sample size of each bootstrap, equal to original size of samples\n",
    "reps <- 5000 # number of reps\n",
    "\n",
    "bike_bootstrap <- daily_bike_theft %>%\n",
    "    rep_sample_n(size = size, reps = reps, replace = TRUE)\n",
    "\n",
    "head(bike_bootstrap)\n",
    "dim(bike_bootstrap)"
   ]
  },
  {
   "cell_type": "markdown",
   "metadata": {},
   "source": [
    "With the bootstrapped samples, we can group by ‘replicate’ and ‘weekend’ to summarize the average number of daily bike thefts across weekends and weekdays, observed in each replicate sample."
   ]
  },
  {
   "cell_type": "code",
   "execution_count": 18,
   "metadata": {
    "scrolled": true
   },
   "outputs": [
    {
     "name": "stderr",
     "output_type": "stream",
     "text": [
      "`summarise()` regrouping output by 'replicate' (override with `.groups` argument)\n",
      "\n"
     ]
    },
    {
     "data": {
      "text/html": [
       "<table>\n",
       "<caption>A grouped_df: 6 × 3</caption>\n",
       "<thead>\n",
       "\t<tr><th scope=col>replicate</th><th scope=col>weekend</th><th scope=col>avg_daily_crime</th></tr>\n",
       "\t<tr><th scope=col>&lt;int&gt;</th><th scope=col>&lt;lgl&gt;</th><th scope=col>&lt;dbl&gt;</th></tr>\n",
       "</thead>\n",
       "<tbody>\n",
       "\t<tr><td>1</td><td>FALSE</td><td>4.956798</td></tr>\n",
       "\t<tr><td>1</td><td> TRUE</td><td>5.033459</td></tr>\n",
       "\t<tr><td>2</td><td>FALSE</td><td>5.043366</td></tr>\n",
       "\t<tr><td>2</td><td> TRUE</td><td>4.864371</td></tr>\n",
       "\t<tr><td>3</td><td>FALSE</td><td>5.080961</td></tr>\n",
       "\t<tr><td>3</td><td> TRUE</td><td>5.167576</td></tr>\n",
       "</tbody>\n",
       "</table>\n"
      ],
      "text/latex": [
       "A grouped\\_df: 6 × 3\n",
       "\\begin{tabular}{lll}\n",
       " replicate & weekend & avg\\_daily\\_crime\\\\\n",
       " <int> & <lgl> & <dbl>\\\\\n",
       "\\hline\n",
       "\t 1 & FALSE & 4.956798\\\\\n",
       "\t 1 &  TRUE & 5.033459\\\\\n",
       "\t 2 & FALSE & 5.043366\\\\\n",
       "\t 2 &  TRUE & 4.864371\\\\\n",
       "\t 3 & FALSE & 5.080961\\\\\n",
       "\t 3 &  TRUE & 5.167576\\\\\n",
       "\\end{tabular}\n"
      ],
      "text/markdown": [
       "\n",
       "A grouped_df: 6 × 3\n",
       "\n",
       "| replicate &lt;int&gt; | weekend &lt;lgl&gt; | avg_daily_crime &lt;dbl&gt; |\n",
       "|---|---|---|\n",
       "| 1 | FALSE | 4.956798 |\n",
       "| 1 |  TRUE | 5.033459 |\n",
       "| 2 | FALSE | 5.043366 |\n",
       "| 2 |  TRUE | 4.864371 |\n",
       "| 3 | FALSE | 5.080961 |\n",
       "| 3 |  TRUE | 5.167576 |\n",
       "\n"
      ],
      "text/plain": [
       "  replicate weekend avg_daily_crime\n",
       "1 1         FALSE   4.956798       \n",
       "2 1          TRUE   5.033459       \n",
       "3 2         FALSE   5.043366       \n",
       "4 2          TRUE   4.864371       \n",
       "5 3         FALSE   5.080961       \n",
       "6 3          TRUE   5.167576       "
      ]
     },
     "metadata": {},
     "output_type": "display_data"
    }
   ],
   "source": [
    "bike_bootstrap_summary <- bike_bootstrap %>% \n",
    "    group_by(replicate, weekend) %>% \n",
    "    summarize(avg_daily_crime = mean(thefts))\n",
    "head(bike_bootstrap_summary)"
   ]
  },
  {
   "cell_type": "markdown",
   "metadata": {},
   "source": [
    "To obtain our test statistic for each replicate, we again group by 'replicate' and use mutate() to add an additional column called ‘difference’ which contains the test statistic for each replicate. This difference between the mean daily bike thefts between weekends and weekdays is calculated using the lag() function, which would subtract the value of the average daily crime of weekdays from weekends for each replicate. \n",
    "\n",
    "Since the difference column only stored one test statistic for each observation, we can use filter to remove redundant rows (e.g., where weekend is FALSE) and select only the relevant replicate and difference columns.\n",
    "\n",
    "We are then left with a single data frame containing only the replicate number and its corresponding test statistic, which is saved in `bike_bootstrap_summary`."
   ]
  },
  {
   "cell_type": "code",
   "execution_count": 19,
   "metadata": {},
   "outputs": [
    {
     "name": "stderr",
     "output_type": "stream",
     "text": [
      "`summarise()` regrouping output by 'replicate' (override with `.groups` argument)\n",
      "\n"
     ]
    },
    {
     "data": {
      "text/html": [
       "<table>\n",
       "<caption>A tibble: 6 × 2</caption>\n",
       "<thead>\n",
       "\t<tr><th scope=col>replicate</th><th scope=col>difference</th></tr>\n",
       "\t<tr><th scope=col>&lt;int&gt;</th><th scope=col>&lt;dbl&gt;</th></tr>\n",
       "</thead>\n",
       "<tbody>\n",
       "\t<tr><td>1</td><td>-0.07666129</td></tr>\n",
       "\t<tr><td>2</td><td> 0.17899484</td></tr>\n",
       "\t<tr><td>3</td><td>-0.08661500</td></tr>\n",
       "\t<tr><td>4</td><td> 0.24231718</td></tr>\n",
       "\t<tr><td>5</td><td> 0.15036058</td></tr>\n",
       "\t<tr><td>6</td><td> 0.21820289</td></tr>\n",
       "</tbody>\n",
       "</table>\n"
      ],
      "text/latex": [
       "A tibble: 6 × 2\n",
       "\\begin{tabular}{ll}\n",
       " replicate & difference\\\\\n",
       " <int> & <dbl>\\\\\n",
       "\\hline\n",
       "\t 1 & -0.07666129\\\\\n",
       "\t 2 &  0.17899484\\\\\n",
       "\t 3 & -0.08661500\\\\\n",
       "\t 4 &  0.24231718\\\\\n",
       "\t 5 &  0.15036058\\\\\n",
       "\t 6 &  0.21820289\\\\\n",
       "\\end{tabular}\n"
      ],
      "text/markdown": [
       "\n",
       "A tibble: 6 × 2\n",
       "\n",
       "| replicate &lt;int&gt; | difference &lt;dbl&gt; |\n",
       "|---|---|\n",
       "| 1 | -0.07666129 |\n",
       "| 2 |  0.17899484 |\n",
       "| 3 | -0.08661500 |\n",
       "| 4 |  0.24231718 |\n",
       "| 5 |  0.15036058 |\n",
       "| 6 |  0.21820289 |\n",
       "\n"
      ],
      "text/plain": [
       "  replicate difference \n",
       "1 1         -0.07666129\n",
       "2 2          0.17899484\n",
       "3 3         -0.08661500\n",
       "4 4          0.24231718\n",
       "5 5          0.15036058\n",
       "6 6          0.21820289"
      ]
     },
     "metadata": {},
     "output_type": "display_data"
    },
    {
     "data": {
      "text/html": [
       "<style>\n",
       ".list-inline {list-style: none; margin:0; padding: 0}\n",
       ".list-inline>li {display: inline-block}\n",
       ".list-inline>li:not(:last-child)::after {content: \"\\00b7\"; padding: 0 .5ex}\n",
       "</style>\n",
       "<ol class=list-inline><li>5000</li><li>2</li></ol>\n"
      ],
      "text/latex": [
       "\\begin{enumerate*}\n",
       "\\item 5000\n",
       "\\item 2\n",
       "\\end{enumerate*}\n"
      ],
      "text/markdown": [
       "1. 5000\n",
       "2. 2\n",
       "\n",
       "\n"
      ],
      "text/plain": [
       "[1] 5000    2"
      ]
     },
     "metadata": {},
     "output_type": "display_data"
    }
   ],
   "source": [
    "bike_bootstrap_summary <- bike_bootstrap %>% \n",
    "    group_by(replicate, weekend) %>% \n",
    "    summarize(avg_daily_crime = mean(thefts))  %>% # calculate mean daily bike thefts\n",
    "    group_by(replicate) %>% \n",
    "    mutate(difference = lag(avg_daily_crime) - avg_daily_crime) %>% # calculate test statistic for each replicate\n",
    "    filter(weekend == TRUE) %>% # remove redundant rows\n",
    "    select(replicate, difference) %>% # select relevant columns\n",
    "    ungroup()\n",
    "\n",
    "head(bike_bootstrap_summary)\n",
    "dim(bike_bootstrap_summary)"
   ]
  },
  {
   "cell_type": "markdown",
   "metadata": {},
   "source": [
    "### A1.2. Calculate Bootstrap Confidence Interval"
   ]
  },
  {
   "cell_type": "markdown",
   "metadata": {},
   "source": [
    "To calculate the confidence interval, we can use the quantile function alongside with the lower and upper bounds for our 95% confidence interval [0.025, 0.975] to determine the bounds for our test statistics. Based on this, we can say with 95% confidence that the true parameter falls between the range of \\~-0.027 and \\~0.389. This difference covers our null hypothesis of 0, which would lead us to not reject the null in favor of the alternative hypothesis."
   ]
  },
  {
   "cell_type": "code",
   "execution_count": 20,
   "metadata": {
    "scrolled": true
   },
   "outputs": [
    {
     "data": {
      "text/html": [
       "<table>\n",
       "<caption>A tibble: 1 × 3</caption>\n",
       "<thead>\n",
       "\t<tr><th scope=col>ci_lower</th><th scope=col>ci_upper</th><th scope=col>method</th></tr>\n",
       "\t<tr><th scope=col>&lt;dbl&gt;</th><th scope=col>&lt;dbl&gt;</th><th scope=col>&lt;chr&gt;</th></tr>\n",
       "</thead>\n",
       "<tbody>\n",
       "\t<tr><td>-0.02697328</td><td>0.3891142</td><td>bootstrap</td></tr>\n",
       "</tbody>\n",
       "</table>\n"
      ],
      "text/latex": [
       "A tibble: 1 × 3\n",
       "\\begin{tabular}{lll}\n",
       " ci\\_lower & ci\\_upper & method\\\\\n",
       " <dbl> & <dbl> & <chr>\\\\\n",
       "\\hline\n",
       "\t -0.02697328 & 0.3891142 & bootstrap\\\\\n",
       "\\end{tabular}\n"
      ],
      "text/markdown": [
       "\n",
       "A tibble: 1 × 3\n",
       "\n",
       "| ci_lower &lt;dbl&gt; | ci_upper &lt;dbl&gt; | method &lt;chr&gt; |\n",
       "|---|---|---|\n",
       "| -0.02697328 | 0.3891142 | bootstrap |\n",
       "\n"
      ],
      "text/plain": [
       "  ci_lower    ci_upper  method   \n",
       "1 -0.02697328 0.3891142 bootstrap"
      ]
     },
     "metadata": {},
     "output_type": "display_data"
    }
   ],
   "source": [
    "# creating the bootstrap CI\n",
    "bootstrap_ci <- bike_bootstrap_summary %>%\n",
    "    summarise(ci_lower = quantile(difference, 0.025),\n",
    "              ci_upper = quantile(difference, 0.975)) %>% \n",
    "    mutate(method = \"bootstrap\")\n",
    "bootstrap_ci"
   ]
  },
  {
   "cell_type": "markdown",
   "metadata": {},
   "source": [
    "### A1.3. Calculate p-value"
   ]
  },
  {
   "cell_type": "markdown",
   "metadata": {},
   "source": [
    "To calculate the p-value, we first shift our bootstrap distribution by the mean bootstrap test statistic to simulate the null distribution (centered around 0)."
   ]
  },
  {
   "cell_type": "code",
   "execution_count": 21,
   "metadata": {},
   "outputs": [
    {
     "data": {
      "text/html": [
       "<table>\n",
       "<caption>A tibble: 6 × 3</caption>\n",
       "<thead>\n",
       "\t<tr><th scope=col>replicate</th><th scope=col>difference</th><th scope=col>null_ts</th></tr>\n",
       "\t<tr><th scope=col>&lt;int&gt;</th><th scope=col>&lt;dbl&gt;</th><th scope=col>&lt;dbl&gt;</th></tr>\n",
       "</thead>\n",
       "<tbody>\n",
       "\t<tr><td>1</td><td>-0.07666129</td><td>-0.257850731</td></tr>\n",
       "\t<tr><td>2</td><td> 0.17899484</td><td>-0.002194605</td></tr>\n",
       "\t<tr><td>3</td><td>-0.08661500</td><td>-0.267804445</td></tr>\n",
       "\t<tr><td>4</td><td> 0.24231718</td><td> 0.061127736</td></tr>\n",
       "\t<tr><td>5</td><td> 0.15036058</td><td>-0.030828864</td></tr>\n",
       "\t<tr><td>6</td><td> 0.21820289</td><td> 0.037013448</td></tr>\n",
       "</tbody>\n",
       "</table>\n"
      ],
      "text/latex": [
       "A tibble: 6 × 3\n",
       "\\begin{tabular}{lll}\n",
       " replicate & difference & null\\_ts\\\\\n",
       " <int> & <dbl> & <dbl>\\\\\n",
       "\\hline\n",
       "\t 1 & -0.07666129 & -0.257850731\\\\\n",
       "\t 2 &  0.17899484 & -0.002194605\\\\\n",
       "\t 3 & -0.08661500 & -0.267804445\\\\\n",
       "\t 4 &  0.24231718 &  0.061127736\\\\\n",
       "\t 5 &  0.15036058 & -0.030828864\\\\\n",
       "\t 6 &  0.21820289 &  0.037013448\\\\\n",
       "\\end{tabular}\n"
      ],
      "text/markdown": [
       "\n",
       "A tibble: 6 × 3\n",
       "\n",
       "| replicate &lt;int&gt; | difference &lt;dbl&gt; | null_ts &lt;dbl&gt; |\n",
       "|---|---|---|\n",
       "| 1 | -0.07666129 | -0.257850731 |\n",
       "| 2 |  0.17899484 | -0.002194605 |\n",
       "| 3 | -0.08661500 | -0.267804445 |\n",
       "| 4 |  0.24231718 |  0.061127736 |\n",
       "| 5 |  0.15036058 | -0.030828864 |\n",
       "| 6 |  0.21820289 |  0.037013448 |\n",
       "\n"
      ],
      "text/plain": [
       "  replicate difference  null_ts     \n",
       "1 1         -0.07666129 -0.257850731\n",
       "2 2          0.17899484 -0.002194605\n",
       "3 3         -0.08661500 -0.267804445\n",
       "4 4          0.24231718  0.061127736\n",
       "5 5          0.15036058 -0.030828864\n",
       "6 6          0.21820289  0.037013448"
      ]
     },
     "metadata": {},
     "output_type": "display_data"
    }
   ],
   "source": [
    "# creating the bootstrap CI\n",
    "\n",
    "bootstrap_ts <- mean(bike_bootstrap_summary$difference) # average of observed difference from each replicate\n",
    "\n",
    "bootstrap_null <- bike_bootstrap_summary %>% \n",
    "    mutate(null_ts = difference - bootstrap_ts) # shifting our bootstrap distribution to center around 0 (H0)\n",
    "\n",
    "head(bootstrap_null)"
   ]
  },
  {
   "cell_type": "markdown",
   "metadata": {},
   "source": [
    "We can then use the bootstrap null distribution to obtain the proportion of replicates that are as extreme or more than our observed test statistic. The proportion obtained is then doubled since we are performing a two-sided test to obtain our p-value (based on our definition of the alternative hypothesis)."
   ]
  },
  {
   "cell_type": "code",
   "execution_count": 22,
   "metadata": {},
   "outputs": [
    {
     "name": "stdout",
     "output_type": "stream",
     "text": [
      "[1] \"Bootstrap p-value\"\n"
     ]
    },
    {
     "data": {
      "text/html": [
       "0.0884"
      ],
      "text/latex": [
       "0.0884"
      ],
      "text/markdown": [
       "0.0884"
      ],
      "text/plain": [
       "[1] 0.0884"
      ]
     },
     "metadata": {},
     "output_type": "display_data"
    }
   ],
   "source": [
    "observed_stat <- obs_stat\n",
    "replicates <- nrow(bootstrap_null)\n",
    "\n",
    "bootstrap_p <- sum(bootstrap_null$null_ts >= observed_stat) / replicates * 2\n",
    "\n",
    "print(\"Bootstrap p-value\")\n",
    "bootstrap_p"
   ]
  },
  {
   "cell_type": "markdown",
   "metadata": {},
   "source": [
    "Summarizing the bootstrap findings, we combine our findings above into a neat tibble.\n"
   ]
  },
  {
   "cell_type": "code",
   "execution_count": 23,
   "metadata": {},
   "outputs": [
    {
     "name": "stderr",
     "output_type": "stream",
     "text": [
      "Joining, by = \"method\"\n",
      "\n"
     ]
    },
    {
     "data": {
      "text/html": [
       "<table>\n",
       "<caption>A tibble: 1 × 4</caption>\n",
       "<thead>\n",
       "\t<tr><th scope=col>method</th><th scope=col>ci_lower</th><th scope=col>ci_upper</th><th scope=col>p_value</th></tr>\n",
       "\t<tr><th scope=col>&lt;chr&gt;</th><th scope=col>&lt;dbl&gt;</th><th scope=col>&lt;dbl&gt;</th><th scope=col>&lt;dbl&gt;</th></tr>\n",
       "</thead>\n",
       "<tbody>\n",
       "\t<tr><td>bootstrap</td><td>-0.02697328</td><td>0.3891142</td><td>0.0884</td></tr>\n",
       "</tbody>\n",
       "</table>\n"
      ],
      "text/latex": [
       "A tibble: 1 × 4\n",
       "\\begin{tabular}{llll}\n",
       " method & ci\\_lower & ci\\_upper & p\\_value\\\\\n",
       " <chr> & <dbl> & <dbl> & <dbl>\\\\\n",
       "\\hline\n",
       "\t bootstrap & -0.02697328 & 0.3891142 & 0.0884\\\\\n",
       "\\end{tabular}\n"
      ],
      "text/markdown": [
       "\n",
       "A tibble: 1 × 4\n",
       "\n",
       "| method &lt;chr&gt; | ci_lower &lt;dbl&gt; | ci_upper &lt;dbl&gt; | p_value &lt;dbl&gt; |\n",
       "|---|---|---|---|\n",
       "| bootstrap | -0.02697328 | 0.3891142 | 0.0884 |\n",
       "\n"
      ],
      "text/plain": [
       "  method    ci_lower    ci_upper  p_value\n",
       "1 bootstrap -0.02697328 0.3891142 0.0884 "
      ]
     },
     "metadata": {},
     "output_type": "display_data"
    }
   ],
   "source": [
    "bootstrap_summary <- tibble(method = \"bootstrap\") %>% \n",
    "    left_join(bootstrap_ci) %>% \n",
    "    mutate(p_value = bootstrap_p)\n",
    "bootstrap_summary\n"
   ]
  },
  {
   "cell_type": "markdown",
   "metadata": {},
   "source": [
    "## A2: CLT Analysis Using Normal Approximation"
   ]
  },
  {
   "cell_type": "markdown",
   "metadata": {},
   "source": [
    "To use the CLT approximation, we first check against the following assumptions:\n",
    "1. **The sample is drawn in an independent fashion** - it is likely that bike theft is reported in an independent fashion, however there may also be underreporting of bike thefts if the value of the bike is below a certain threshold.\n",
    "2. **The sample size is <10% of the population size** - we are drawing inference on the population of all bike theft in Vancouver both in the past and future, therefore the population can be considered to be very large.\n",
    "3. **The estimator is a sum of random components** - we are using the difference in means, which is a sum of random components.\n",
    "\n",
    "We begin with the same dataframe `daily_bike_theft` as our sample and add the mean and sample standard error for each categorical variable."
   ]
  },
  {
   "cell_type": "code",
   "execution_count": 24,
   "metadata": {},
   "outputs": [
    {
     "name": "stderr",
     "output_type": "stream",
     "text": [
      "`summarise()` ungrouping output (override with `.groups` argument)\n",
      "\n"
     ]
    },
    {
     "data": {
      "text/html": [
       "<table>\n",
       "<caption>A tibble: 2 × 3</caption>\n",
       "<thead>\n",
       "\t<tr><th scope=col>weekend</th><th scope=col>mean</th><th scope=col>std_error</th></tr>\n",
       "\t<tr><th scope=col>&lt;lgl&gt;</th><th scope=col>&lt;dbl&gt;</th><th scope=col>&lt;dbl&gt;</th></tr>\n",
       "</thead>\n",
       "<tbody>\n",
       "\t<tr><td>FALSE</td><td>5.118799</td><td>0.05767846</td></tr>\n",
       "\t<tr><td> TRUE</td><td>4.937700</td><td>0.08795819</td></tr>\n",
       "</tbody>\n",
       "</table>\n"
      ],
      "text/latex": [
       "A tibble: 2 × 3\n",
       "\\begin{tabular}{lll}\n",
       " weekend & mean & std\\_error\\\\\n",
       " <lgl> & <dbl> & <dbl>\\\\\n",
       "\\hline\n",
       "\t FALSE & 5.118799 & 0.05767846\\\\\n",
       "\t  TRUE & 4.937700 & 0.08795819\\\\\n",
       "\\end{tabular}\n"
      ],
      "text/markdown": [
       "\n",
       "A tibble: 2 × 3\n",
       "\n",
       "| weekend &lt;lgl&gt; | mean &lt;dbl&gt; | std_error &lt;dbl&gt; |\n",
       "|---|---|---|\n",
       "| FALSE | 5.118799 | 0.05767846 |\n",
       "|  TRUE | 4.937700 | 0.08795819 |\n",
       "\n"
      ],
      "text/plain": [
       "  weekend mean     std_error \n",
       "1 FALSE   5.118799 0.05767846\n",
       "2  TRUE   4.937700 0.08795819"
      ]
     },
     "metadata": {},
     "output_type": "display_data"
    }
   ],
   "source": [
    "n <- nrow(daily_bike_theft) #6575\n",
    "\n",
    "clt_bike_theft <- daily_bike_theft %>% \n",
    "    group_by(weekend) %>% \n",
    "    # we then add the mean and standard error for weekdays (FALSE) and weekends (TRUE)\n",
    "    summarize(mean = mean(thefts), std_error = sd(thefts)/sqrt(n()))\n",
    "\n",
    "head(clt_bike_theft)"
   ]
  },
  {
   "cell_type": "markdown",
   "metadata": {},
   "source": [
    "To obtain the confidence interval, we must first calculate the test statistic (the difference in means) and combined standard error (root of the squares of the standard errors) to obtain the characteristics describing the normal approximation for our test statistic."
   ]
  },
  {
   "cell_type": "code",
   "execution_count": 25,
   "metadata": {},
   "outputs": [
    {
     "name": "stdout",
     "output_type": "stream",
     "text": [
      "[1] \"Test statistic\"\n",
      "[1] 0.1810996\n",
      "[1] \"Combined standard error\"\n",
      "[1] 0.1051829\n"
     ]
    }
   ],
   "source": [
    "sample <- clt_bike_theft\n",
    "\n",
    "weekday_mean <- sample$mean[1] # weekday sample mean\n",
    "weekend_mean <- sample$mean[2] # weekend sample mean\n",
    "diff_mean <- weekday_mean - weekend_mean # calculate the test statistic\n",
    "\n",
    "weekday_se <- sample$std_error[1] # weekday\n",
    "weekend_se <- sample$std_error[2] # weekend\n",
    "comb_se <- sqrt(weekday_se^2 + weekend_se^2)  # calculate the combined standard error\n",
    "\n",
    "print(\"Test statistic\")\n",
    "print(diff_mean)\n",
    "print(\"Combined standard error\")\n",
    "print(comb_se)"
   ]
  },
  {
   "cell_type": "markdown",
   "metadata": {},
   "source": [
    "We can then determine the confidence interval using the quantile function for a normal distribution, supplying the parameters `diff_mean` and the combined standard error `comb_se` to describe the distribution of the test statistic."
   ]
  },
  {
   "cell_type": "code",
   "execution_count": 26,
   "metadata": {
    "scrolled": false
   },
   "outputs": [
    {
     "data": {
      "text/html": [
       "<table>\n",
       "<caption>A tibble: 1 × 4</caption>\n",
       "<thead>\n",
       "\t<tr><th scope=col>method</th><th scope=col>test_statistic</th><th scope=col>ci_lower</th><th scope=col>ci_upper</th></tr>\n",
       "\t<tr><th scope=col>&lt;chr&gt;</th><th scope=col>&lt;dbl&gt;</th><th scope=col>&lt;dbl&gt;</th><th scope=col>&lt;dbl&gt;</th></tr>\n",
       "</thead>\n",
       "<tbody>\n",
       "\t<tr><td>CLT (Normal)</td><td>0.1810996</td><td>-0.02505519</td><td>0.3872543</td></tr>\n",
       "</tbody>\n",
       "</table>\n"
      ],
      "text/latex": [
       "A tibble: 1 × 4\n",
       "\\begin{tabular}{llll}\n",
       " method & test\\_statistic & ci\\_lower & ci\\_upper\\\\\n",
       " <chr> & <dbl> & <dbl> & <dbl>\\\\\n",
       "\\hline\n",
       "\t CLT (Normal) & 0.1810996 & -0.02505519 & 0.3872543\\\\\n",
       "\\end{tabular}\n"
      ],
      "text/markdown": [
       "\n",
       "A tibble: 1 × 4\n",
       "\n",
       "| method &lt;chr&gt; | test_statistic &lt;dbl&gt; | ci_lower &lt;dbl&gt; | ci_upper &lt;dbl&gt; |\n",
       "|---|---|---|---|\n",
       "| CLT (Normal) | 0.1810996 | -0.02505519 | 0.3872543 |\n",
       "\n"
      ],
      "text/plain": [
       "  method       test_statistic ci_lower    ci_upper \n",
       "1 CLT (Normal) 0.1810996      -0.02505519 0.3872543"
      ]
     },
     "metadata": {},
     "output_type": "display_data"
    }
   ],
   "source": [
    "ci_percent <- 0.95\n",
    "\n",
    "lower_bound = (1 - ci_percent) / 2 # calculate lower bound of confidence interval (0.025)\n",
    "upper_bound = (1 - lower_bound) # calculate lower bound of confidence interval (0.975)\n",
    "\n",
    "clt_ci <- tibble(method = \"CLT (Normal)\") %>% \n",
    "    mutate(test_statistic = diff_mean) %>% \n",
    "    mutate(ci_lower = qnorm(lower_bound, diff_mean, comb_se),\n",
    "           ci_upper = qnorm(upper_bound, diff_mean, comb_se))\n",
    "\n",
    "clt_ci"
   ]
  },
  {
   "cell_type": "markdown",
   "metadata": {},
   "source": [
    "To calculate the p-value, we can center our normal distribution at 0 and determine the area under the curve that is as extreme or more than our observed test statistic. This value is then doubled to reflect both tails covered under our alternative hypothesis."
   ]
  },
  {
   "cell_type": "code",
   "execution_count": 27,
   "metadata": {},
   "outputs": [
    {
     "name": "stdout",
     "output_type": "stream",
     "text": [
      "[1] \"CLT p-value\"\n",
      "[1] 0.08511334\n"
     ]
    }
   ],
   "source": [
    "clt_p <- pnorm(obs_stat, 0, comb_se, lower.tail = FALSE) * 2\n",
    "print(\"CLT p-value\")\n",
    "print(clt_p)"
   ]
  },
  {
   "cell_type": "code",
   "execution_count": 28,
   "metadata": {},
   "outputs": [
    {
     "data": {
      "text/html": [
       "<table>\n",
       "<caption>A tibble: 4 × 5</caption>\n",
       "<thead>\n",
       "\t<tr><th scope=col>method</th><th scope=col>ci_lower</th><th scope=col>ci_upper</th><th scope=col>p_value</th><th scope=col>test_statistic</th></tr>\n",
       "\t<tr><th scope=col>&lt;chr&gt;</th><th scope=col>&lt;dbl&gt;</th><th scope=col>&lt;dbl&gt;</th><th scope=col>&lt;dbl&gt;</th><th scope=col>&lt;dbl&gt;</th></tr>\n",
       "</thead>\n",
       "<tbody>\n",
       "\t<tr><td>bootstrap        </td><td>-0.02697328</td><td>0.3891142</td><td>0.08840000</td><td>       NA</td></tr>\n",
       "\t<tr><td>bootstrap (infer)</td><td>-0.02697328</td><td>0.3891142</td><td>0.08840000</td><td>       NA</td></tr>\n",
       "\t<tr><td>CLT (T-dist)     </td><td>-0.02512502</td><td>0.3873241</td><td>0.08519987</td><td>0.1810996</td></tr>\n",
       "\t<tr><td>CLT (Normal)     </td><td>-0.02505519</td><td>0.3872543</td><td>0.08511334</td><td>0.1810996</td></tr>\n",
       "</tbody>\n",
       "</table>\n"
      ],
      "text/latex": [
       "A tibble: 4 × 5\n",
       "\\begin{tabular}{lllll}\n",
       " method & ci\\_lower & ci\\_upper & p\\_value & test\\_statistic\\\\\n",
       " <chr> & <dbl> & <dbl> & <dbl> & <dbl>\\\\\n",
       "\\hline\n",
       "\t bootstrap         & -0.02697328 & 0.3891142 & 0.08840000 &        NA\\\\\n",
       "\t bootstrap (infer) & -0.02697328 & 0.3891142 & 0.08840000 &        NA\\\\\n",
       "\t CLT (T-dist)      & -0.02512502 & 0.3873241 & 0.08519987 & 0.1810996\\\\\n",
       "\t CLT (Normal)      & -0.02505519 & 0.3872543 & 0.08511334 & 0.1810996\\\\\n",
       "\\end{tabular}\n"
      ],
      "text/markdown": [
       "\n",
       "A tibble: 4 × 5\n",
       "\n",
       "| method &lt;chr&gt; | ci_lower &lt;dbl&gt; | ci_upper &lt;dbl&gt; | p_value &lt;dbl&gt; | test_statistic &lt;dbl&gt; |\n",
       "|---|---|---|---|---|\n",
       "| bootstrap         | -0.02697328 | 0.3891142 | 0.08840000 |        NA |\n",
       "| bootstrap (infer) | -0.02697328 | 0.3891142 | 0.08840000 |        NA |\n",
       "| CLT (T-dist)      | -0.02512502 | 0.3873241 | 0.08519987 | 0.1810996 |\n",
       "| CLT (Normal)      | -0.02505519 | 0.3872543 | 0.08511334 | 0.1810996 |\n",
       "\n"
      ],
      "text/plain": [
       "  method            ci_lower    ci_upper  p_value    test_statistic\n",
       "1 bootstrap         -0.02697328 0.3891142 0.08840000        NA     \n",
       "2 bootstrap (infer) -0.02697328 0.3891142 0.08840000        NA     \n",
       "3 CLT (T-dist)      -0.02512502 0.3873241 0.08519987 0.1810996     \n",
       "4 CLT (Normal)      -0.02505519 0.3872543 0.08511334 0.1810996     "
      ]
     },
     "metadata": {},
     "output_type": "display_data"
    }
   ],
   "source": [
    "clt_normal_summary <- clt_ci %>% \n",
    "    mutate(p_value = clt_p)\n",
    "\n",
    "tests_summary <- bind_rows(bootstrap_summary, bootstrap_infer_summary, clt_t_summary,clt_normal_summary)\n",
    "tests_summary"
   ]
  },
  {
   "cell_type": "markdown",
   "metadata": {},
   "source": [
    "Our result from the CLT using normal approximation is very similar to our bootstrap and t-test results. All tests indicate that the null hypothesis should not be rejected under a 5% significance level (since the p-value is larger) and 95% confidence interval (since the CI includes the null hypothesis of 0). "
   ]
  }
 ],
 "metadata": {
  "kernelspec": {
   "display_name": "R",
   "language": "R",
   "name": "ir"
  },
  "language_info": {
   "codemirror_mode": "r",
   "file_extension": ".r",
   "mimetype": "text/x-r-source",
   "name": "R",
   "pygments_lexer": "r",
   "version": "4.0.3"
  }
 },
 "nbformat": 4,
 "nbformat_minor": 4
}
